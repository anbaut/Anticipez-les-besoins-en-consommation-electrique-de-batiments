{
 "cells": [
  {
   "cell_type": "code",
   "execution_count": 1,
   "id": "dd66224b",
   "metadata": {},
   "outputs": [
    {
     "name": "stdout",
     "output_type": "stream",
     "text": [
      "Populating the interactive namespace from numpy and matplotlib\n"
     ]
    }
   ],
   "source": [
    "#Importation des librairies\n",
    "import warnings\n",
    "warnings.filterwarnings(\"ignore\")\n",
    "\n",
    "import os\n",
    "import re\n",
    "import glob\n",
    "import pandas as pd\n",
    "import missingno as msno\n",
    "import numpy as np\n",
    "import seaborn as sns\n",
    "import matplotlib.pyplot as plt\n",
    "import missingno as msno\n",
    "from shapely.geometry import Point\n",
    "import geopandas as gpd\n",
    "from geopandas import GeoDataFrame\n",
    "import folium\n",
    "from sklearn import preprocessing\n",
    "from sklearn import utils\n",
    "from sklearn.preprocessing import StandardScaler\n",
    "from sklearn.preprocessing import RobustScaler\n",
    "from sklearn.preprocessing import LabelEncoder\n",
    "from sklearn.preprocessing import OneHotEncoder\n",
    "from sklearn.model_selection import train_test_split\n",
    "from sklearn.dummy import DummyRegressor\n",
    "from sklearn.compose import ColumnTransformer\n",
    "from sklearn.pipeline import Pipeline\n",
    "from sklearn.impute import SimpleImputer\n",
    "from sklearn.metrics import mean_absolute_error, mean_squared_error, r2_score, mean_absolute_percentage_error\n",
    "from yellowbrick.regressor import ResidualsPlot, prediction_error\n",
    "\n",
    "from time import time\n",
    "\n",
    "pd.set_option(\"display.max_columns\", None)\n",
    "pd.options.display.float_format = \"{:,.2f}\".format\n",
    "\n",
    "%pylab inline"
   ]
  },
  {
   "cell_type": "code",
   "execution_count": 2,
   "id": "a8c91f7e",
   "metadata": {},
   "outputs": [],
   "source": [
    "def rmpse(y_true, y_pred):\n",
    "    '''\n",
    "    Compute Root Mean Square Percentage Error between two arrays.\n",
    "    '''\n",
    "    loss = np.sqrt(np.mean(np.square(((y_true - y_pred) / y_true))))\n",
    "\n",
    "    return loss\n",
    "\n",
    "def regression_metrics(y_test, y_pred):\n",
    "    \"\"\"Function which contains differents metrics about regression\n",
    "    Input: y_test, prediction\n",
    "    \n",
    "    Output: MAE, MSE, RMSE, MAPE & R² score  \n",
    "    \"\"\"\n",
    "    mae = mean_absolute_error(y_test, y_pred)\n",
    "    mse = mean_squared_error(y_test, y_pred)\n",
    "    rmse = np.sqrt(mse)\n",
    "    rmpse_cal = rmpse(y_test, y_pred)\n",
    "    mape = mean_absolute_percentage_error(y_test, y_pred)\n",
    "    r_score = r2_score(y_test, y_pred, multioutput=\"variance_weighted\")\n",
    "    print(\"MAE: \",mae.round(5))\n",
    "    print(\"MSE: \", mse.round(5))\n",
    "    print(\"RMSE: \", rmse)\n",
    "    print(\"RMPSE: \", rmpse_cal.round(3))\n",
    "    print(\"MAPE: \", mape.round(5))\n",
    "    print(\"R²: \", r_score.round(5))"
   ]
  },
  {
   "cell_type": "code",
   "execution_count": 3,
   "id": "62c875cc",
   "metadata": {},
   "outputs": [],
   "source": [
    "df = pd.read_csv(\"projet3.csv\", sep=',')"
   ]
  },
  {
   "cell_type": "code",
   "execution_count": 4,
   "id": "e7bf4136",
   "metadata": {},
   "outputs": [
    {
     "data": {
      "text/plain": [
       "(1050, 21)"
      ]
     },
     "execution_count": 4,
     "metadata": {},
     "output_type": "execute_result"
    }
   ],
   "source": [
    "df.shape"
   ]
  },
  {
   "cell_type": "code",
   "execution_count": 5,
   "id": "fb4bdfbf",
   "metadata": {},
   "outputs": [
    {
     "name": "stdout",
     "output_type": "stream",
     "text": [
      "There are 4 categorical variables\n",
      "\n",
      "The categorical variables are :\n",
      "\n",
      " ['PrimaryPropertyType', 'LargestPropertyUseType', 'SecondLargestPropertyUseType', 'ThirdLargestPropertyUseType']\n"
     ]
    }
   ],
   "source": [
    "categorical = [var for var in df.columns if df[var].dtype=='O']\n",
    "\n",
    "print('There are {} categorical variables\\n'.format(len(categorical)))\n",
    "\n",
    "print('The categorical variables are :\\n\\n', categorical)"
   ]
  },
  {
   "cell_type": "code",
   "execution_count": 6,
   "id": "f57f7197",
   "metadata": {},
   "outputs": [
    {
     "data": {
      "text/html": [
       "<div>\n",
       "<style scoped>\n",
       "    .dataframe tbody tr th:only-of-type {\n",
       "        vertical-align: middle;\n",
       "    }\n",
       "\n",
       "    .dataframe tbody tr th {\n",
       "        vertical-align: top;\n",
       "    }\n",
       "\n",
       "    .dataframe thead th {\n",
       "        text-align: right;\n",
       "    }\n",
       "</style>\n",
       "<table border=\"1\" class=\"dataframe\">\n",
       "  <thead>\n",
       "    <tr style=\"text-align: right;\">\n",
       "      <th></th>\n",
       "      <th>PrimaryPropertyType</th>\n",
       "      <th>LargestPropertyUseType</th>\n",
       "      <th>SecondLargestPropertyUseType</th>\n",
       "      <th>ThirdLargestPropertyUseType</th>\n",
       "    </tr>\n",
       "  </thead>\n",
       "  <tbody>\n",
       "    <tr>\n",
       "      <th>0</th>\n",
       "      <td>Hotel</td>\n",
       "      <td>Hotel</td>\n",
       "      <td>NaN</td>\n",
       "      <td>NaN</td>\n",
       "    </tr>\n",
       "    <tr>\n",
       "      <th>1</th>\n",
       "      <td>Hotel</td>\n",
       "      <td>Hotel</td>\n",
       "      <td>Parking</td>\n",
       "      <td>Restaurant</td>\n",
       "    </tr>\n",
       "    <tr>\n",
       "      <th>2</th>\n",
       "      <td>Hotel</td>\n",
       "      <td>Hotel</td>\n",
       "      <td>NaN</td>\n",
       "      <td>NaN</td>\n",
       "    </tr>\n",
       "    <tr>\n",
       "      <th>3</th>\n",
       "      <td>Hotel</td>\n",
       "      <td>Hotel</td>\n",
       "      <td>NaN</td>\n",
       "      <td>NaN</td>\n",
       "    </tr>\n",
       "    <tr>\n",
       "      <th>4</th>\n",
       "      <td>Hotel</td>\n",
       "      <td>Hotel</td>\n",
       "      <td>Parking</td>\n",
       "      <td>Swimming Pool</td>\n",
       "    </tr>\n",
       "  </tbody>\n",
       "</table>\n",
       "</div>"
      ],
      "text/plain": [
       "  PrimaryPropertyType LargestPropertyUseType SecondLargestPropertyUseType  \\\n",
       "0               Hotel                  Hotel                          NaN   \n",
       "1               Hotel                  Hotel                      Parking   \n",
       "2               Hotel                  Hotel                          NaN   \n",
       "3               Hotel                  Hotel                          NaN   \n",
       "4               Hotel                  Hotel                      Parking   \n",
       "\n",
       "  ThirdLargestPropertyUseType  \n",
       "0                         NaN  \n",
       "1                  Restaurant  \n",
       "2                         NaN  \n",
       "3                         NaN  \n",
       "4               Swimming Pool  "
      ]
     },
     "execution_count": 6,
     "metadata": {},
     "output_type": "execute_result"
    }
   ],
   "source": [
    "df[categorical].head()"
   ]
  },
  {
   "cell_type": "code",
   "execution_count": 7,
   "id": "f4b5038d",
   "metadata": {},
   "outputs": [
    {
     "name": "stdout",
     "output_type": "stream",
     "text": [
      "Small- and Mid-Sized Office    235\n",
      "Large Office                   156\n",
      "Warehouse                      143\n",
      "K-12 School                    124\n",
      "Retail Store                    78\n",
      "Hotel                           72\n",
      "Worship Facility                63\n",
      "Distribution Center             40\n",
      "Supermarket / Grocery Store     38\n",
      "Medical Office                  37\n",
      "Mixed Use Property              18\n",
      "Senior Care Community           18\n",
      "Other                           11\n",
      "Hospital                         9\n",
      "Refrigerated Warehouse           5\n",
      "Office                           3\n",
      "Name: PrimaryPropertyType, dtype: int64\n",
      "Office                                   401\n",
      "Non-Refrigerated Warehouse               145\n",
      "K-12 School                              124\n",
      "Retail Store                              78\n",
      "Hotel                                     72\n",
      "Worship Facility                          63\n",
      "Distribution Center                       41\n",
      "Medical Office                            37\n",
      "Supermarket/Grocery Store                 37\n",
      "Senior Care Community                     18\n",
      "Hospital (General Medical & Surgical)      9\n",
      "Parking                                    6\n",
      "Refrigerated Warehouse                     5\n",
      "Financial Office                           4\n",
      "Bank Branch                                4\n",
      "Data Center                                3\n",
      "Courthouse                                 1\n",
      "Wholesale Club/Supercenter                 1\n",
      "Other                                      1\n",
      "Name: LargestPropertyUseType, dtype: int64\n",
      "Parking                                  265\n",
      "Office                                    67\n",
      "Retail Store                              47\n",
      "Other                                     21\n",
      "Non-Refrigerated Warehouse                20\n",
      "Restaurant                                12\n",
      "Bank Branch                                6\n",
      "Supermarket/Grocery Store                  6\n",
      "Laboratory                                 5\n",
      "Data Center                                4\n",
      "Distribution Center                        3\n",
      "K-12 School                                2\n",
      "Worship Facility                           2\n",
      "Swimming Pool                              2\n",
      "Hotel                                      2\n",
      "Bar/Nightclub                              1\n",
      "Manufacturing/Industrial Plant             1\n",
      "Medical Office                             1\n",
      "Pre-school/Daycare                         1\n",
      "Financial Office                           1\n",
      "College/University                         1\n",
      "Adult Education                            1\n",
      "Performing Arts                            1\n",
      "Convenience Store without Gas Station      1\n",
      "Other - Recreation                         1\n",
      "Other - Services                           1\n",
      "Self-Storage Facility                      1\n",
      "Other - Entertainment/Public Assembly      1\n",
      "Other - Education                          1\n",
      "Other - Restaurant/Bar                     1\n",
      "Name: SecondLargestPropertyUseType, dtype: int64\n",
      "Other                                                   23\n",
      "Parking                                                 21\n",
      "Retail Store                                            16\n",
      "Restaurant                                              13\n",
      "Data Center                                             10\n",
      "Office                                                   7\n",
      "Non-Refrigerated Warehouse                               6\n",
      "Medical Office                                           6\n",
      "Swimming Pool                                            5\n",
      "Food Service                                             5\n",
      "Bank Branch                                              4\n",
      "Fitness Center/Health Club/Gym                           4\n",
      "Other - Restaurant/Bar                                   3\n",
      "Financial Office                                         3\n",
      "Distribution Center                                      2\n",
      "Social/Meeting Hall                                      2\n",
      "Other - Services                                         2\n",
      "Other - Technology/Science                               2\n",
      "Convenience Store without Gas Station                    1\n",
      "Pre-school/Daycare                                       1\n",
      "Other - Education                                        1\n",
      "Laboratory                                               1\n",
      "Other - Entertainment/Public Assembly                    1\n",
      "Other - Recreation                                       1\n",
      "Personal Services (Health/Beauty, Dry Cleaning, etc)     1\n",
      "Refrigerated Warehouse                                   1\n",
      "Bar/Nightclub                                            1\n",
      "Other/Specialty Hospital                                 1\n",
      "Worship Facility                                         1\n",
      "Name: ThirdLargestPropertyUseType, dtype: int64\n"
     ]
    }
   ],
   "source": [
    "for var in categorical: \n",
    "    \n",
    "    print(df[var].value_counts())"
   ]
  },
  {
   "cell_type": "code",
   "execution_count": 8,
   "id": "31ecdefd",
   "metadata": {},
   "outputs": [
    {
     "name": "stdout",
     "output_type": "stream",
     "text": [
      "Small- and Mid-Sized Office   0.22\n",
      "Large Office                  0.15\n",
      "Warehouse                     0.14\n",
      "K-12 School                   0.12\n",
      "Retail Store                  0.07\n",
      "Hotel                         0.07\n",
      "Worship Facility              0.06\n",
      "Distribution Center           0.04\n",
      "Supermarket / Grocery Store   0.04\n",
      "Medical Office                0.04\n",
      "Mixed Use Property            0.02\n",
      "Senior Care Community         0.02\n",
      "Other                         0.01\n",
      "Hospital                      0.01\n",
      "Refrigerated Warehouse        0.00\n",
      "Office                        0.00\n",
      "Name: PrimaryPropertyType, dtype: float64\n",
      "Office                                  0.38\n",
      "Non-Refrigerated Warehouse              0.14\n",
      "K-12 School                             0.12\n",
      "Retail Store                            0.07\n",
      "Hotel                                   0.07\n",
      "Worship Facility                        0.06\n",
      "Distribution Center                     0.04\n",
      "Medical Office                          0.04\n",
      "Supermarket/Grocery Store               0.04\n",
      "Senior Care Community                   0.02\n",
      "Hospital (General Medical & Surgical)   0.01\n",
      "Parking                                 0.01\n",
      "Refrigerated Warehouse                  0.00\n",
      "Financial Office                        0.00\n",
      "Bank Branch                             0.00\n",
      "Data Center                             0.00\n",
      "Courthouse                              0.00\n",
      "Wholesale Club/Supercenter              0.00\n",
      "Other                                   0.00\n",
      "Name: LargestPropertyUseType, dtype: float64\n",
      "Parking                                 0.25\n",
      "Office                                  0.06\n",
      "Retail Store                            0.04\n",
      "Other                                   0.02\n",
      "Non-Refrigerated Warehouse              0.02\n",
      "Restaurant                              0.01\n",
      "Bank Branch                             0.01\n",
      "Supermarket/Grocery Store               0.01\n",
      "Laboratory                              0.00\n",
      "Data Center                             0.00\n",
      "Distribution Center                     0.00\n",
      "K-12 School                             0.00\n",
      "Worship Facility                        0.00\n",
      "Swimming Pool                           0.00\n",
      "Hotel                                   0.00\n",
      "Bar/Nightclub                           0.00\n",
      "Manufacturing/Industrial Plant          0.00\n",
      "Medical Office                          0.00\n",
      "Pre-school/Daycare                      0.00\n",
      "Financial Office                        0.00\n",
      "College/University                      0.00\n",
      "Adult Education                         0.00\n",
      "Performing Arts                         0.00\n",
      "Convenience Store without Gas Station   0.00\n",
      "Other - Recreation                      0.00\n",
      "Other - Services                        0.00\n",
      "Self-Storage Facility                   0.00\n",
      "Other - Entertainment/Public Assembly   0.00\n",
      "Other - Education                       0.00\n",
      "Other - Restaurant/Bar                  0.00\n",
      "Name: SecondLargestPropertyUseType, dtype: float64\n",
      "Other                                                  0.02\n",
      "Parking                                                0.02\n",
      "Retail Store                                           0.02\n",
      "Restaurant                                             0.01\n",
      "Data Center                                            0.01\n",
      "Office                                                 0.01\n",
      "Non-Refrigerated Warehouse                             0.01\n",
      "Medical Office                                         0.01\n",
      "Swimming Pool                                          0.00\n",
      "Food Service                                           0.00\n",
      "Bank Branch                                            0.00\n",
      "Fitness Center/Health Club/Gym                         0.00\n",
      "Other - Restaurant/Bar                                 0.00\n",
      "Financial Office                                       0.00\n",
      "Distribution Center                                    0.00\n",
      "Social/Meeting Hall                                    0.00\n",
      "Other - Services                                       0.00\n",
      "Other - Technology/Science                             0.00\n",
      "Convenience Store without Gas Station                  0.00\n",
      "Pre-school/Daycare                                     0.00\n",
      "Other - Education                                      0.00\n",
      "Laboratory                                             0.00\n",
      "Other - Entertainment/Public Assembly                  0.00\n",
      "Other - Recreation                                     0.00\n",
      "Personal Services (Health/Beauty, Dry Cleaning, etc)   0.00\n",
      "Refrigerated Warehouse                                 0.00\n",
      "Bar/Nightclub                                          0.00\n",
      "Other/Specialty Hospital                               0.00\n",
      "Worship Facility                                       0.00\n",
      "Name: ThirdLargestPropertyUseType, dtype: float64\n"
     ]
    }
   ],
   "source": [
    "for var in categorical:\n",
    "    \n",
    "     print(df[var].value_counts()/np.float(len(df)))"
   ]
  },
  {
   "cell_type": "code",
   "execution_count": 9,
   "id": "a4dfef99",
   "metadata": {},
   "outputs": [
    {
     "data": {
      "text/plain": [
       "0"
      ]
     },
     "execution_count": 9,
     "metadata": {},
     "output_type": "execute_result"
    }
   ],
   "source": [
    "df['TotalGHGEmissions_log'].isnull().sum()"
   ]
  },
  {
   "cell_type": "code",
   "execution_count": 10,
   "id": "5bd92c64",
   "metadata": {},
   "outputs": [
    {
     "data": {
      "text/plain": [
       "1018"
      ]
     },
     "execution_count": 10,
     "metadata": {},
     "output_type": "execute_result"
    }
   ],
   "source": [
    "df['TotalGHGEmissions_log'].nunique()"
   ]
  },
  {
   "cell_type": "code",
   "execution_count": 11,
   "id": "01b73c86",
   "metadata": {},
   "outputs": [
    {
     "data": {
      "text/plain": [
       "(1050, 21)"
      ]
     },
     "execution_count": 11,
     "metadata": {},
     "output_type": "execute_result"
    }
   ],
   "source": [
    "df.shape"
   ]
  },
  {
   "cell_type": "code",
   "execution_count": 12,
   "id": "e3a0edd2",
   "metadata": {},
   "outputs": [
    {
     "name": "stdout",
     "output_type": "stream",
     "text": [
      "There are 17 numerical variables\n",
      "\n",
      "The numerical variables are :\n",
      "\n",
      " ['NumberofBuildings', 'NumberofFloors', 'PropertyGFAParking', 'PropertyGFABuilding(s)', 'LargestPropertyUseTypeGFA', 'SecondLargestPropertyUseTypeGFA', 'ThirdLargestPropertyUseTypeGFA', 'ENERGYSTARScore', 'SiteEnergyUse(kBtu)', 'TotalGHGEmissions', 'SiteEnergyUse(kBtu)_log', 'TotalGHGEmissions_log', 'SourceEUI(kBtu/sf)_binary', 'SiteEnergyUse(kBtu)_binary', 'SteamUse(kBtu)_binary', 'Electricity(kBtu)_binary', 'NaturalGas(kBtu)_binary']\n"
     ]
    }
   ],
   "source": [
    "numerical = [var for var in df.columns if df[var].dtype!='O']\n",
    "\n",
    "print('There are {} numerical variables\\n'.format(len(numerical)))\n",
    "\n",
    "print('The numerical variables are :\\n\\n', numerical)"
   ]
  },
  {
   "cell_type": "code",
   "execution_count": 13,
   "id": "fcdee219",
   "metadata": {},
   "outputs": [
    {
     "data": {
      "text/html": [
       "<div>\n",
       "<style scoped>\n",
       "    .dataframe tbody tr th:only-of-type {\n",
       "        vertical-align: middle;\n",
       "    }\n",
       "\n",
       "    .dataframe tbody tr th {\n",
       "        vertical-align: top;\n",
       "    }\n",
       "\n",
       "    .dataframe thead th {\n",
       "        text-align: right;\n",
       "    }\n",
       "</style>\n",
       "<table border=\"1\" class=\"dataframe\">\n",
       "  <thead>\n",
       "    <tr style=\"text-align: right;\">\n",
       "      <th></th>\n",
       "      <th>NumberofBuildings</th>\n",
       "      <th>NumberofFloors</th>\n",
       "      <th>PropertyGFAParking</th>\n",
       "      <th>PropertyGFABuilding(s)</th>\n",
       "      <th>LargestPropertyUseTypeGFA</th>\n",
       "      <th>SecondLargestPropertyUseTypeGFA</th>\n",
       "      <th>ThirdLargestPropertyUseTypeGFA</th>\n",
       "      <th>ENERGYSTARScore</th>\n",
       "      <th>SiteEnergyUse(kBtu)</th>\n",
       "      <th>TotalGHGEmissions</th>\n",
       "      <th>SiteEnergyUse(kBtu)_log</th>\n",
       "      <th>TotalGHGEmissions_log</th>\n",
       "      <th>SourceEUI(kBtu/sf)_binary</th>\n",
       "      <th>SiteEnergyUse(kBtu)_binary</th>\n",
       "      <th>SteamUse(kBtu)_binary</th>\n",
       "      <th>Electricity(kBtu)_binary</th>\n",
       "      <th>NaturalGas(kBtu)_binary</th>\n",
       "    </tr>\n",
       "  </thead>\n",
       "  <tbody>\n",
       "    <tr>\n",
       "      <th>0</th>\n",
       "      <td>1.00</td>\n",
       "      <td>12</td>\n",
       "      <td>0</td>\n",
       "      <td>88434</td>\n",
       "      <td>88,434.00</td>\n",
       "      <td>0.00</td>\n",
       "      <td>0.00</td>\n",
       "      <td>60.00</td>\n",
       "      <td>7,226,362.50</td>\n",
       "      <td>249.98</td>\n",
       "      <td>15.79</td>\n",
       "      <td>5.52</td>\n",
       "      <td>1</td>\n",
       "      <td>1</td>\n",
       "      <td>1</td>\n",
       "      <td>1</td>\n",
       "      <td>1</td>\n",
       "    </tr>\n",
       "    <tr>\n",
       "      <th>1</th>\n",
       "      <td>1.00</td>\n",
       "      <td>11</td>\n",
       "      <td>15064</td>\n",
       "      <td>88502</td>\n",
       "      <td>83,880.00</td>\n",
       "      <td>15,064.00</td>\n",
       "      <td>4,622.00</td>\n",
       "      <td>61.00</td>\n",
       "      <td>8,387,933.00</td>\n",
       "      <td>295.86</td>\n",
       "      <td>15.94</td>\n",
       "      <td>5.69</td>\n",
       "      <td>1</td>\n",
       "      <td>1</td>\n",
       "      <td>0</td>\n",
       "      <td>1</td>\n",
       "      <td>1</td>\n",
       "    </tr>\n",
       "    <tr>\n",
       "      <th>2</th>\n",
       "      <td>1.00</td>\n",
       "      <td>41</td>\n",
       "      <td>196718</td>\n",
       "      <td>759392</td>\n",
       "      <td>756,493.00</td>\n",
       "      <td>0.00</td>\n",
       "      <td>0.00</td>\n",
       "      <td>43.00</td>\n",
       "      <td>72,587,024.00</td>\n",
       "      <td>2,089.28</td>\n",
       "      <td>18.10</td>\n",
       "      <td>7.64</td>\n",
       "      <td>1</td>\n",
       "      <td>1</td>\n",
       "      <td>1</td>\n",
       "      <td>1</td>\n",
       "      <td>1</td>\n",
       "    </tr>\n",
       "    <tr>\n",
       "      <th>3</th>\n",
       "      <td>1.00</td>\n",
       "      <td>10</td>\n",
       "      <td>0</td>\n",
       "      <td>61320</td>\n",
       "      <td>61,320.00</td>\n",
       "      <td>0.00</td>\n",
       "      <td>0.00</td>\n",
       "      <td>56.00</td>\n",
       "      <td>6,794,584.00</td>\n",
       "      <td>286.43</td>\n",
       "      <td>15.73</td>\n",
       "      <td>5.66</td>\n",
       "      <td>1</td>\n",
       "      <td>1</td>\n",
       "      <td>1</td>\n",
       "      <td>1</td>\n",
       "      <td>1</td>\n",
       "    </tr>\n",
       "    <tr>\n",
       "      <th>4</th>\n",
       "      <td>1.00</td>\n",
       "      <td>18</td>\n",
       "      <td>62000</td>\n",
       "      <td>113580</td>\n",
       "      <td>123,445.00</td>\n",
       "      <td>68,009.00</td>\n",
       "      <td>0.00</td>\n",
       "      <td>75.00</td>\n",
       "      <td>14,172,606.00</td>\n",
       "      <td>505.01</td>\n",
       "      <td>16.47</td>\n",
       "      <td>6.22</td>\n",
       "      <td>1</td>\n",
       "      <td>1</td>\n",
       "      <td>0</td>\n",
       "      <td>1</td>\n",
       "      <td>1</td>\n",
       "    </tr>\n",
       "  </tbody>\n",
       "</table>\n",
       "</div>"
      ],
      "text/plain": [
       "   NumberofBuildings  NumberofFloors  PropertyGFAParking  \\\n",
       "0               1.00              12                   0   \n",
       "1               1.00              11               15064   \n",
       "2               1.00              41              196718   \n",
       "3               1.00              10                   0   \n",
       "4               1.00              18               62000   \n",
       "\n",
       "   PropertyGFABuilding(s)  LargestPropertyUseTypeGFA  \\\n",
       "0                   88434                  88,434.00   \n",
       "1                   88502                  83,880.00   \n",
       "2                  759392                 756,493.00   \n",
       "3                   61320                  61,320.00   \n",
       "4                  113580                 123,445.00   \n",
       "\n",
       "   SecondLargestPropertyUseTypeGFA  ThirdLargestPropertyUseTypeGFA  \\\n",
       "0                             0.00                            0.00   \n",
       "1                        15,064.00                        4,622.00   \n",
       "2                             0.00                            0.00   \n",
       "3                             0.00                            0.00   \n",
       "4                        68,009.00                            0.00   \n",
       "\n",
       "   ENERGYSTARScore  SiteEnergyUse(kBtu)  TotalGHGEmissions  \\\n",
       "0            60.00         7,226,362.50             249.98   \n",
       "1            61.00         8,387,933.00             295.86   \n",
       "2            43.00        72,587,024.00           2,089.28   \n",
       "3            56.00         6,794,584.00             286.43   \n",
       "4            75.00        14,172,606.00             505.01   \n",
       "\n",
       "   SiteEnergyUse(kBtu)_log  TotalGHGEmissions_log  SourceEUI(kBtu/sf)_binary  \\\n",
       "0                    15.79                   5.52                          1   \n",
       "1                    15.94                   5.69                          1   \n",
       "2                    18.10                   7.64                          1   \n",
       "3                    15.73                   5.66                          1   \n",
       "4                    16.47                   6.22                          1   \n",
       "\n",
       "   SiteEnergyUse(kBtu)_binary  SteamUse(kBtu)_binary  \\\n",
       "0                           1                      1   \n",
       "1                           1                      0   \n",
       "2                           1                      1   \n",
       "3                           1                      1   \n",
       "4                           1                      0   \n",
       "\n",
       "   Electricity(kBtu)_binary  NaturalGas(kBtu)_binary  \n",
       "0                         1                        1  \n",
       "1                         1                        1  \n",
       "2                         1                        1  \n",
       "3                         1                        1  \n",
       "4                         1                        1  "
      ]
     },
     "execution_count": 13,
     "metadata": {},
     "output_type": "execute_result"
    }
   ],
   "source": [
    "df[numerical].head()"
   ]
  },
  {
   "cell_type": "code",
   "execution_count": 14,
   "id": "e29f42e5",
   "metadata": {},
   "outputs": [
    {
     "data": {
      "text/plain": [
       "NumberofBuildings                  0\n",
       "NumberofFloors                     0\n",
       "PropertyGFAParking                 0\n",
       "PropertyGFABuilding(s)             0\n",
       "LargestPropertyUseTypeGFA          0\n",
       "SecondLargestPropertyUseTypeGFA    0\n",
       "ThirdLargestPropertyUseTypeGFA     0\n",
       "ENERGYSTARScore                    0\n",
       "SiteEnergyUse(kBtu)                0\n",
       "TotalGHGEmissions                  0\n",
       "SiteEnergyUse(kBtu)_log            0\n",
       "TotalGHGEmissions_log              0\n",
       "SourceEUI(kBtu/sf)_binary          0\n",
       "SiteEnergyUse(kBtu)_binary         0\n",
       "SteamUse(kBtu)_binary              0\n",
       "Electricity(kBtu)_binary           0\n",
       "NaturalGas(kBtu)_binary            0\n",
       "dtype: int64"
      ]
     },
     "execution_count": 14,
     "metadata": {},
     "output_type": "execute_result"
    }
   ],
   "source": [
    "df[numerical].isnull().sum()"
   ]
  },
  {
   "cell_type": "code",
   "execution_count": 15,
   "id": "d8a995f1",
   "metadata": {},
   "outputs": [],
   "source": [
    "X = df.drop(['TotalGHGEmissions_log','TotalGHGEmissions','SiteEnergyUse(kBtu)_log','SiteEnergyUse(kBtu)'], axis=1)\n",
    "\n",
    "y = df['TotalGHGEmissions_log']"
   ]
  },
  {
   "cell_type": "code",
   "execution_count": 16,
   "id": "09f9c0c5",
   "metadata": {},
   "outputs": [],
   "source": [
    "from sklearn.model_selection import train_test_split\n",
    "\n",
    "X_train, X_test, y_train, y_test = train_test_split(X, y, test_size = 0.3, random_state = 0)"
   ]
  },
  {
   "cell_type": "code",
   "execution_count": 17,
   "id": "3d42180f",
   "metadata": {},
   "outputs": [
    {
     "data": {
      "text/plain": [
       "((735, 17), (315, 17))"
      ]
     },
     "execution_count": 17,
     "metadata": {},
     "output_type": "execute_result"
    }
   ],
   "source": [
    "X_train.shape, X_test.shape"
   ]
  },
  {
   "cell_type": "code",
   "execution_count": 18,
   "id": "cded140e",
   "metadata": {},
   "outputs": [
    {
     "data": {
      "text/plain": [
       "['PrimaryPropertyType',\n",
       " 'LargestPropertyUseType',\n",
       " 'SecondLargestPropertyUseType',\n",
       " 'ThirdLargestPropertyUseType']"
      ]
     },
     "execution_count": 18,
     "metadata": {},
     "output_type": "execute_result"
    }
   ],
   "source": [
    "categorical = [col for col in X_train.columns if X_train[col].dtypes == 'O']\n",
    "\n",
    "categorical"
   ]
  },
  {
   "cell_type": "code",
   "execution_count": 19,
   "id": "53de66a5",
   "metadata": {},
   "outputs": [
    {
     "data": {
      "text/plain": [
       "['NumberofBuildings',\n",
       " 'NumberofFloors',\n",
       " 'PropertyGFAParking',\n",
       " 'PropertyGFABuilding(s)',\n",
       " 'LargestPropertyUseTypeGFA',\n",
       " 'SecondLargestPropertyUseTypeGFA',\n",
       " 'ThirdLargestPropertyUseTypeGFA',\n",
       " 'ENERGYSTARScore',\n",
       " 'SourceEUI(kBtu/sf)_binary',\n",
       " 'SiteEnergyUse(kBtu)_binary',\n",
       " 'SteamUse(kBtu)_binary',\n",
       " 'Electricity(kBtu)_binary',\n",
       " 'NaturalGas(kBtu)_binary']"
      ]
     },
     "execution_count": 19,
     "metadata": {},
     "output_type": "execute_result"
    }
   ],
   "source": [
    "numerical = [col for col in X_train.columns if X_train[col].dtypes != 'O']\n",
    "\n",
    "numerical"
   ]
  },
  {
   "cell_type": "code",
   "execution_count": 20,
   "id": "a68f7160",
   "metadata": {},
   "outputs": [
    {
     "data": {
      "text/plain": [
       "PrimaryPropertyType            0.00\n",
       "LargestPropertyUseType         0.00\n",
       "SecondLargestPropertyUseType   0.52\n",
       "ThirdLargestPropertyUseType    0.86\n",
       "dtype: float64"
      ]
     },
     "execution_count": 20,
     "metadata": {},
     "output_type": "execute_result"
    }
   ],
   "source": [
    "X_train[categorical].isnull().mean()"
   ]
  },
  {
   "cell_type": "code",
   "execution_count": 21,
   "id": "f625229b",
   "metadata": {},
   "outputs": [
    {
     "data": {
      "text/plain": [
       "PrimaryPropertyType                  0\n",
       "NumberofBuildings                    0\n",
       "NumberofFloors                       0\n",
       "PropertyGFAParking                   0\n",
       "PropertyGFABuilding(s)               0\n",
       "LargestPropertyUseType               0\n",
       "LargestPropertyUseTypeGFA            0\n",
       "SecondLargestPropertyUseType       383\n",
       "SecondLargestPropertyUseTypeGFA      0\n",
       "ThirdLargestPropertyUseType        631\n",
       "ThirdLargestPropertyUseTypeGFA       0\n",
       "ENERGYSTARScore                      0\n",
       "SourceEUI(kBtu/sf)_binary            0\n",
       "SiteEnergyUse(kBtu)_binary           0\n",
       "SteamUse(kBtu)_binary                0\n",
       "Electricity(kBtu)_binary             0\n",
       "NaturalGas(kBtu)_binary              0\n",
       "dtype: int64"
      ]
     },
     "execution_count": 21,
     "metadata": {},
     "output_type": "execute_result"
    }
   ],
   "source": [
    "X_train.isnull().sum()"
   ]
  },
  {
   "cell_type": "code",
   "execution_count": 22,
   "id": "2e4749e0",
   "metadata": {},
   "outputs": [
    {
     "data": {
      "text/plain": [
       "PrimaryPropertyType                  0\n",
       "NumberofBuildings                    0\n",
       "NumberofFloors                       0\n",
       "PropertyGFAParking                   0\n",
       "PropertyGFABuilding(s)               0\n",
       "LargestPropertyUseType               0\n",
       "LargestPropertyUseTypeGFA            0\n",
       "SecondLargestPropertyUseType       188\n",
       "SecondLargestPropertyUseTypeGFA      0\n",
       "ThirdLargestPropertyUseType        274\n",
       "ThirdLargestPropertyUseTypeGFA       0\n",
       "ENERGYSTARScore                      0\n",
       "SourceEUI(kBtu/sf)_binary            0\n",
       "SiteEnergyUse(kBtu)_binary           0\n",
       "SteamUse(kBtu)_binary                0\n",
       "Electricity(kBtu)_binary             0\n",
       "NaturalGas(kBtu)_binary              0\n",
       "dtype: int64"
      ]
     },
     "execution_count": 22,
     "metadata": {},
     "output_type": "execute_result"
    }
   ],
   "source": [
    "X_test.isnull().sum()"
   ]
  },
  {
   "cell_type": "code",
   "execution_count": 23,
   "id": "19e60dce",
   "metadata": {},
   "outputs": [],
   "source": [
    "import category_encoders as ce"
   ]
  },
  {
   "cell_type": "code",
   "execution_count": 24,
   "id": "f5a15a87",
   "metadata": {},
   "outputs": [],
   "source": [
    "encoder = ce.OneHotEncoder(cols=['PrimaryPropertyType',\n",
    " 'LargestPropertyUseType',\n",
    " 'SecondLargestPropertyUseType',\n",
    " 'ThirdLargestPropertyUseType'])\n",
    "\n",
    "X_train = encoder.fit_transform(X_train)\n",
    "\n",
    "X_test = encoder.transform(X_test)"
   ]
  },
  {
   "cell_type": "code",
   "execution_count": 25,
   "id": "ec06132e",
   "metadata": {},
   "outputs": [
    {
     "data": {
      "text/html": [
       "<div>\n",
       "<style scoped>\n",
       "    .dataframe tbody tr th:only-of-type {\n",
       "        vertical-align: middle;\n",
       "    }\n",
       "\n",
       "    .dataframe tbody tr th {\n",
       "        vertical-align: top;\n",
       "    }\n",
       "\n",
       "    .dataframe thead th {\n",
       "        text-align: right;\n",
       "    }\n",
       "</style>\n",
       "<table border=\"1\" class=\"dataframe\">\n",
       "  <thead>\n",
       "    <tr style=\"text-align: right;\">\n",
       "      <th></th>\n",
       "      <th>PrimaryPropertyType_1</th>\n",
       "      <th>PrimaryPropertyType_2</th>\n",
       "      <th>PrimaryPropertyType_3</th>\n",
       "      <th>PrimaryPropertyType_4</th>\n",
       "      <th>PrimaryPropertyType_5</th>\n",
       "      <th>PrimaryPropertyType_6</th>\n",
       "      <th>PrimaryPropertyType_7</th>\n",
       "      <th>PrimaryPropertyType_8</th>\n",
       "      <th>PrimaryPropertyType_9</th>\n",
       "      <th>PrimaryPropertyType_10</th>\n",
       "      <th>PrimaryPropertyType_11</th>\n",
       "      <th>PrimaryPropertyType_12</th>\n",
       "      <th>PrimaryPropertyType_13</th>\n",
       "      <th>PrimaryPropertyType_14</th>\n",
       "      <th>PrimaryPropertyType_15</th>\n",
       "      <th>PrimaryPropertyType_16</th>\n",
       "      <th>NumberofBuildings</th>\n",
       "      <th>NumberofFloors</th>\n",
       "      <th>PropertyGFAParking</th>\n",
       "      <th>PropertyGFABuilding(s)</th>\n",
       "      <th>LargestPropertyUseType_1</th>\n",
       "      <th>LargestPropertyUseType_2</th>\n",
       "      <th>LargestPropertyUseType_3</th>\n",
       "      <th>LargestPropertyUseType_4</th>\n",
       "      <th>LargestPropertyUseType_5</th>\n",
       "      <th>LargestPropertyUseType_6</th>\n",
       "      <th>LargestPropertyUseType_7</th>\n",
       "      <th>LargestPropertyUseType_8</th>\n",
       "      <th>LargestPropertyUseType_9</th>\n",
       "      <th>LargestPropertyUseType_10</th>\n",
       "      <th>LargestPropertyUseType_11</th>\n",
       "      <th>LargestPropertyUseType_12</th>\n",
       "      <th>LargestPropertyUseType_13</th>\n",
       "      <th>LargestPropertyUseType_14</th>\n",
       "      <th>LargestPropertyUseType_15</th>\n",
       "      <th>LargestPropertyUseType_16</th>\n",
       "      <th>LargestPropertyUseType_17</th>\n",
       "      <th>LargestPropertyUseTypeGFA</th>\n",
       "      <th>SecondLargestPropertyUseType_1</th>\n",
       "      <th>SecondLargestPropertyUseType_2</th>\n",
       "      <th>SecondLargestPropertyUseType_3</th>\n",
       "      <th>SecondLargestPropertyUseType_4</th>\n",
       "      <th>SecondLargestPropertyUseType_5</th>\n",
       "      <th>SecondLargestPropertyUseType_6</th>\n",
       "      <th>SecondLargestPropertyUseType_7</th>\n",
       "      <th>SecondLargestPropertyUseType_8</th>\n",
       "      <th>SecondLargestPropertyUseType_9</th>\n",
       "      <th>SecondLargestPropertyUseType_10</th>\n",
       "      <th>SecondLargestPropertyUseType_11</th>\n",
       "      <th>SecondLargestPropertyUseType_12</th>\n",
       "      <th>SecondLargestPropertyUseType_13</th>\n",
       "      <th>SecondLargestPropertyUseType_14</th>\n",
       "      <th>SecondLargestPropertyUseType_15</th>\n",
       "      <th>SecondLargestPropertyUseType_16</th>\n",
       "      <th>SecondLargestPropertyUseType_17</th>\n",
       "      <th>SecondLargestPropertyUseType_18</th>\n",
       "      <th>SecondLargestPropertyUseType_19</th>\n",
       "      <th>SecondLargestPropertyUseType_20</th>\n",
       "      <th>SecondLargestPropertyUseType_21</th>\n",
       "      <th>SecondLargestPropertyUseType_22</th>\n",
       "      <th>SecondLargestPropertyUseType_23</th>\n",
       "      <th>SecondLargestPropertyUseType_24</th>\n",
       "      <th>SecondLargestPropertyUseType_25</th>\n",
       "      <th>SecondLargestPropertyUseType_26</th>\n",
       "      <th>SecondLargestPropertyUseTypeGFA</th>\n",
       "      <th>ThirdLargestPropertyUseType_1</th>\n",
       "      <th>ThirdLargestPropertyUseType_2</th>\n",
       "      <th>ThirdLargestPropertyUseType_3</th>\n",
       "      <th>ThirdLargestPropertyUseType_4</th>\n",
       "      <th>ThirdLargestPropertyUseType_5</th>\n",
       "      <th>ThirdLargestPropertyUseType_6</th>\n",
       "      <th>ThirdLargestPropertyUseType_7</th>\n",
       "      <th>ThirdLargestPropertyUseType_8</th>\n",
       "      <th>ThirdLargestPropertyUseType_9</th>\n",
       "      <th>ThirdLargestPropertyUseType_10</th>\n",
       "      <th>ThirdLargestPropertyUseType_11</th>\n",
       "      <th>ThirdLargestPropertyUseType_12</th>\n",
       "      <th>ThirdLargestPropertyUseType_13</th>\n",
       "      <th>ThirdLargestPropertyUseType_14</th>\n",
       "      <th>ThirdLargestPropertyUseType_15</th>\n",
       "      <th>ThirdLargestPropertyUseType_16</th>\n",
       "      <th>ThirdLargestPropertyUseType_17</th>\n",
       "      <th>ThirdLargestPropertyUseType_18</th>\n",
       "      <th>ThirdLargestPropertyUseType_19</th>\n",
       "      <th>ThirdLargestPropertyUseType_20</th>\n",
       "      <th>ThirdLargestPropertyUseType_21</th>\n",
       "      <th>ThirdLargestPropertyUseType_22</th>\n",
       "      <th>ThirdLargestPropertyUseType_23</th>\n",
       "      <th>ThirdLargestPropertyUseType_24</th>\n",
       "      <th>ThirdLargestPropertyUseType_25</th>\n",
       "      <th>ThirdLargestPropertyUseTypeGFA</th>\n",
       "      <th>ENERGYSTARScore</th>\n",
       "      <th>SourceEUI(kBtu/sf)_binary</th>\n",
       "      <th>SiteEnergyUse(kBtu)_binary</th>\n",
       "      <th>SteamUse(kBtu)_binary</th>\n",
       "      <th>Electricity(kBtu)_binary</th>\n",
       "      <th>NaturalGas(kBtu)_binary</th>\n",
       "    </tr>\n",
       "  </thead>\n",
       "  <tbody>\n",
       "    <tr>\n",
       "      <th>743</th>\n",
       "      <td>1</td>\n",
       "      <td>0</td>\n",
       "      <td>0</td>\n",
       "      <td>0</td>\n",
       "      <td>0</td>\n",
       "      <td>0</td>\n",
       "      <td>0</td>\n",
       "      <td>0</td>\n",
       "      <td>0</td>\n",
       "      <td>0</td>\n",
       "      <td>0</td>\n",
       "      <td>0</td>\n",
       "      <td>0</td>\n",
       "      <td>0</td>\n",
       "      <td>0</td>\n",
       "      <td>0</td>\n",
       "      <td>1.00</td>\n",
       "      <td>2</td>\n",
       "      <td>0</td>\n",
       "      <td>20671</td>\n",
       "      <td>1</td>\n",
       "      <td>0</td>\n",
       "      <td>0</td>\n",
       "      <td>0</td>\n",
       "      <td>0</td>\n",
       "      <td>0</td>\n",
       "      <td>0</td>\n",
       "      <td>0</td>\n",
       "      <td>0</td>\n",
       "      <td>0</td>\n",
       "      <td>0</td>\n",
       "      <td>0</td>\n",
       "      <td>0</td>\n",
       "      <td>0</td>\n",
       "      <td>0</td>\n",
       "      <td>0</td>\n",
       "      <td>0</td>\n",
       "      <td>20,671.00</td>\n",
       "      <td>1</td>\n",
       "      <td>0</td>\n",
       "      <td>0</td>\n",
       "      <td>0</td>\n",
       "      <td>0</td>\n",
       "      <td>0</td>\n",
       "      <td>0</td>\n",
       "      <td>0</td>\n",
       "      <td>0</td>\n",
       "      <td>0</td>\n",
       "      <td>0</td>\n",
       "      <td>0</td>\n",
       "      <td>0</td>\n",
       "      <td>0</td>\n",
       "      <td>0</td>\n",
       "      <td>0</td>\n",
       "      <td>0</td>\n",
       "      <td>0</td>\n",
       "      <td>0</td>\n",
       "      <td>0</td>\n",
       "      <td>0</td>\n",
       "      <td>0</td>\n",
       "      <td>0</td>\n",
       "      <td>0</td>\n",
       "      <td>0</td>\n",
       "      <td>0</td>\n",
       "      <td>0.00</td>\n",
       "      <td>1</td>\n",
       "      <td>0</td>\n",
       "      <td>0</td>\n",
       "      <td>0</td>\n",
       "      <td>0</td>\n",
       "      <td>0</td>\n",
       "      <td>0</td>\n",
       "      <td>0</td>\n",
       "      <td>0</td>\n",
       "      <td>0</td>\n",
       "      <td>0</td>\n",
       "      <td>0</td>\n",
       "      <td>0</td>\n",
       "      <td>0</td>\n",
       "      <td>0</td>\n",
       "      <td>0</td>\n",
       "      <td>0</td>\n",
       "      <td>0</td>\n",
       "      <td>0</td>\n",
       "      <td>0</td>\n",
       "      <td>0</td>\n",
       "      <td>0</td>\n",
       "      <td>0</td>\n",
       "      <td>0</td>\n",
       "      <td>0</td>\n",
       "      <td>0.00</td>\n",
       "      <td>98.00</td>\n",
       "      <td>1</td>\n",
       "      <td>1</td>\n",
       "      <td>0</td>\n",
       "      <td>1</td>\n",
       "      <td>1</td>\n",
       "    </tr>\n",
       "    <tr>\n",
       "      <th>656</th>\n",
       "      <td>0</td>\n",
       "      <td>1</td>\n",
       "      <td>0</td>\n",
       "      <td>0</td>\n",
       "      <td>0</td>\n",
       "      <td>0</td>\n",
       "      <td>0</td>\n",
       "      <td>0</td>\n",
       "      <td>0</td>\n",
       "      <td>0</td>\n",
       "      <td>0</td>\n",
       "      <td>0</td>\n",
       "      <td>0</td>\n",
       "      <td>0</td>\n",
       "      <td>0</td>\n",
       "      <td>0</td>\n",
       "      <td>1.00</td>\n",
       "      <td>1</td>\n",
       "      <td>0</td>\n",
       "      <td>35289</td>\n",
       "      <td>0</td>\n",
       "      <td>1</td>\n",
       "      <td>0</td>\n",
       "      <td>0</td>\n",
       "      <td>0</td>\n",
       "      <td>0</td>\n",
       "      <td>0</td>\n",
       "      <td>0</td>\n",
       "      <td>0</td>\n",
       "      <td>0</td>\n",
       "      <td>0</td>\n",
       "      <td>0</td>\n",
       "      <td>0</td>\n",
       "      <td>0</td>\n",
       "      <td>0</td>\n",
       "      <td>0</td>\n",
       "      <td>0</td>\n",
       "      <td>35,289.00</td>\n",
       "      <td>1</td>\n",
       "      <td>0</td>\n",
       "      <td>0</td>\n",
       "      <td>0</td>\n",
       "      <td>0</td>\n",
       "      <td>0</td>\n",
       "      <td>0</td>\n",
       "      <td>0</td>\n",
       "      <td>0</td>\n",
       "      <td>0</td>\n",
       "      <td>0</td>\n",
       "      <td>0</td>\n",
       "      <td>0</td>\n",
       "      <td>0</td>\n",
       "      <td>0</td>\n",
       "      <td>0</td>\n",
       "      <td>0</td>\n",
       "      <td>0</td>\n",
       "      <td>0</td>\n",
       "      <td>0</td>\n",
       "      <td>0</td>\n",
       "      <td>0</td>\n",
       "      <td>0</td>\n",
       "      <td>0</td>\n",
       "      <td>0</td>\n",
       "      <td>0</td>\n",
       "      <td>0.00</td>\n",
       "      <td>1</td>\n",
       "      <td>0</td>\n",
       "      <td>0</td>\n",
       "      <td>0</td>\n",
       "      <td>0</td>\n",
       "      <td>0</td>\n",
       "      <td>0</td>\n",
       "      <td>0</td>\n",
       "      <td>0</td>\n",
       "      <td>0</td>\n",
       "      <td>0</td>\n",
       "      <td>0</td>\n",
       "      <td>0</td>\n",
       "      <td>0</td>\n",
       "      <td>0</td>\n",
       "      <td>0</td>\n",
       "      <td>0</td>\n",
       "      <td>0</td>\n",
       "      <td>0</td>\n",
       "      <td>0</td>\n",
       "      <td>0</td>\n",
       "      <td>0</td>\n",
       "      <td>0</td>\n",
       "      <td>0</td>\n",
       "      <td>0</td>\n",
       "      <td>0.00</td>\n",
       "      <td>63.00</td>\n",
       "      <td>1</td>\n",
       "      <td>1</td>\n",
       "      <td>0</td>\n",
       "      <td>1</td>\n",
       "      <td>1</td>\n",
       "    </tr>\n",
       "    <tr>\n",
       "      <th>704</th>\n",
       "      <td>1</td>\n",
       "      <td>0</td>\n",
       "      <td>0</td>\n",
       "      <td>0</td>\n",
       "      <td>0</td>\n",
       "      <td>0</td>\n",
       "      <td>0</td>\n",
       "      <td>0</td>\n",
       "      <td>0</td>\n",
       "      <td>0</td>\n",
       "      <td>0</td>\n",
       "      <td>0</td>\n",
       "      <td>0</td>\n",
       "      <td>0</td>\n",
       "      <td>0</td>\n",
       "      <td>0</td>\n",
       "      <td>1.00</td>\n",
       "      <td>2</td>\n",
       "      <td>0</td>\n",
       "      <td>27574</td>\n",
       "      <td>1</td>\n",
       "      <td>0</td>\n",
       "      <td>0</td>\n",
       "      <td>0</td>\n",
       "      <td>0</td>\n",
       "      <td>0</td>\n",
       "      <td>0</td>\n",
       "      <td>0</td>\n",
       "      <td>0</td>\n",
       "      <td>0</td>\n",
       "      <td>0</td>\n",
       "      <td>0</td>\n",
       "      <td>0</td>\n",
       "      <td>0</td>\n",
       "      <td>0</td>\n",
       "      <td>0</td>\n",
       "      <td>0</td>\n",
       "      <td>27,574.00</td>\n",
       "      <td>1</td>\n",
       "      <td>0</td>\n",
       "      <td>0</td>\n",
       "      <td>0</td>\n",
       "      <td>0</td>\n",
       "      <td>0</td>\n",
       "      <td>0</td>\n",
       "      <td>0</td>\n",
       "      <td>0</td>\n",
       "      <td>0</td>\n",
       "      <td>0</td>\n",
       "      <td>0</td>\n",
       "      <td>0</td>\n",
       "      <td>0</td>\n",
       "      <td>0</td>\n",
       "      <td>0</td>\n",
       "      <td>0</td>\n",
       "      <td>0</td>\n",
       "      <td>0</td>\n",
       "      <td>0</td>\n",
       "      <td>0</td>\n",
       "      <td>0</td>\n",
       "      <td>0</td>\n",
       "      <td>0</td>\n",
       "      <td>0</td>\n",
       "      <td>0</td>\n",
       "      <td>0.00</td>\n",
       "      <td>1</td>\n",
       "      <td>0</td>\n",
       "      <td>0</td>\n",
       "      <td>0</td>\n",
       "      <td>0</td>\n",
       "      <td>0</td>\n",
       "      <td>0</td>\n",
       "      <td>0</td>\n",
       "      <td>0</td>\n",
       "      <td>0</td>\n",
       "      <td>0</td>\n",
       "      <td>0</td>\n",
       "      <td>0</td>\n",
       "      <td>0</td>\n",
       "      <td>0</td>\n",
       "      <td>0</td>\n",
       "      <td>0</td>\n",
       "      <td>0</td>\n",
       "      <td>0</td>\n",
       "      <td>0</td>\n",
       "      <td>0</td>\n",
       "      <td>0</td>\n",
       "      <td>0</td>\n",
       "      <td>0</td>\n",
       "      <td>0</td>\n",
       "      <td>0.00</td>\n",
       "      <td>73.00</td>\n",
       "      <td>1</td>\n",
       "      <td>1</td>\n",
       "      <td>0</td>\n",
       "      <td>1</td>\n",
       "      <td>0</td>\n",
       "    </tr>\n",
       "    <tr>\n",
       "      <th>738</th>\n",
       "      <td>1</td>\n",
       "      <td>0</td>\n",
       "      <td>0</td>\n",
       "      <td>0</td>\n",
       "      <td>0</td>\n",
       "      <td>0</td>\n",
       "      <td>0</td>\n",
       "      <td>0</td>\n",
       "      <td>0</td>\n",
       "      <td>0</td>\n",
       "      <td>0</td>\n",
       "      <td>0</td>\n",
       "      <td>0</td>\n",
       "      <td>0</td>\n",
       "      <td>0</td>\n",
       "      <td>0</td>\n",
       "      <td>1.00</td>\n",
       "      <td>3</td>\n",
       "      <td>21908</td>\n",
       "      <td>35224</td>\n",
       "      <td>1</td>\n",
       "      <td>0</td>\n",
       "      <td>0</td>\n",
       "      <td>0</td>\n",
       "      <td>0</td>\n",
       "      <td>0</td>\n",
       "      <td>0</td>\n",
       "      <td>0</td>\n",
       "      <td>0</td>\n",
       "      <td>0</td>\n",
       "      <td>0</td>\n",
       "      <td>0</td>\n",
       "      <td>0</td>\n",
       "      <td>0</td>\n",
       "      <td>0</td>\n",
       "      <td>0</td>\n",
       "      <td>0</td>\n",
       "      <td>33,705.00</td>\n",
       "      <td>0</td>\n",
       "      <td>0</td>\n",
       "      <td>1</td>\n",
       "      <td>0</td>\n",
       "      <td>0</td>\n",
       "      <td>0</td>\n",
       "      <td>0</td>\n",
       "      <td>0</td>\n",
       "      <td>0</td>\n",
       "      <td>0</td>\n",
       "      <td>0</td>\n",
       "      <td>0</td>\n",
       "      <td>0</td>\n",
       "      <td>0</td>\n",
       "      <td>0</td>\n",
       "      <td>0</td>\n",
       "      <td>0</td>\n",
       "      <td>0</td>\n",
       "      <td>0</td>\n",
       "      <td>0</td>\n",
       "      <td>0</td>\n",
       "      <td>0</td>\n",
       "      <td>0</td>\n",
       "      <td>0</td>\n",
       "      <td>0</td>\n",
       "      <td>0</td>\n",
       "      <td>21,908.00</td>\n",
       "      <td>1</td>\n",
       "      <td>0</td>\n",
       "      <td>0</td>\n",
       "      <td>0</td>\n",
       "      <td>0</td>\n",
       "      <td>0</td>\n",
       "      <td>0</td>\n",
       "      <td>0</td>\n",
       "      <td>0</td>\n",
       "      <td>0</td>\n",
       "      <td>0</td>\n",
       "      <td>0</td>\n",
       "      <td>0</td>\n",
       "      <td>0</td>\n",
       "      <td>0</td>\n",
       "      <td>0</td>\n",
       "      <td>0</td>\n",
       "      <td>0</td>\n",
       "      <td>0</td>\n",
       "      <td>0</td>\n",
       "      <td>0</td>\n",
       "      <td>0</td>\n",
       "      <td>0</td>\n",
       "      <td>0</td>\n",
       "      <td>0</td>\n",
       "      <td>0.00</td>\n",
       "      <td>73.00</td>\n",
       "      <td>1</td>\n",
       "      <td>1</td>\n",
       "      <td>0</td>\n",
       "      <td>1</td>\n",
       "      <td>0</td>\n",
       "    </tr>\n",
       "    <tr>\n",
       "      <th>496</th>\n",
       "      <td>0</td>\n",
       "      <td>0</td>\n",
       "      <td>1</td>\n",
       "      <td>0</td>\n",
       "      <td>0</td>\n",
       "      <td>0</td>\n",
       "      <td>0</td>\n",
       "      <td>0</td>\n",
       "      <td>0</td>\n",
       "      <td>0</td>\n",
       "      <td>0</td>\n",
       "      <td>0</td>\n",
       "      <td>0</td>\n",
       "      <td>0</td>\n",
       "      <td>0</td>\n",
       "      <td>0</td>\n",
       "      <td>1.00</td>\n",
       "      <td>1</td>\n",
       "      <td>0</td>\n",
       "      <td>23409</td>\n",
       "      <td>0</td>\n",
       "      <td>0</td>\n",
       "      <td>1</td>\n",
       "      <td>0</td>\n",
       "      <td>0</td>\n",
       "      <td>0</td>\n",
       "      <td>0</td>\n",
       "      <td>0</td>\n",
       "      <td>0</td>\n",
       "      <td>0</td>\n",
       "      <td>0</td>\n",
       "      <td>0</td>\n",
       "      <td>0</td>\n",
       "      <td>0</td>\n",
       "      <td>0</td>\n",
       "      <td>0</td>\n",
       "      <td>0</td>\n",
       "      <td>21,909.00</td>\n",
       "      <td>0</td>\n",
       "      <td>0</td>\n",
       "      <td>0</td>\n",
       "      <td>1</td>\n",
       "      <td>0</td>\n",
       "      <td>0</td>\n",
       "      <td>0</td>\n",
       "      <td>0</td>\n",
       "      <td>0</td>\n",
       "      <td>0</td>\n",
       "      <td>0</td>\n",
       "      <td>0</td>\n",
       "      <td>0</td>\n",
       "      <td>0</td>\n",
       "      <td>0</td>\n",
       "      <td>0</td>\n",
       "      <td>0</td>\n",
       "      <td>0</td>\n",
       "      <td>0</td>\n",
       "      <td>0</td>\n",
       "      <td>0</td>\n",
       "      <td>0</td>\n",
       "      <td>0</td>\n",
       "      <td>0</td>\n",
       "      <td>0</td>\n",
       "      <td>0</td>\n",
       "      <td>1,500.00</td>\n",
       "      <td>1</td>\n",
       "      <td>0</td>\n",
       "      <td>0</td>\n",
       "      <td>0</td>\n",
       "      <td>0</td>\n",
       "      <td>0</td>\n",
       "      <td>0</td>\n",
       "      <td>0</td>\n",
       "      <td>0</td>\n",
       "      <td>0</td>\n",
       "      <td>0</td>\n",
       "      <td>0</td>\n",
       "      <td>0</td>\n",
       "      <td>0</td>\n",
       "      <td>0</td>\n",
       "      <td>0</td>\n",
       "      <td>0</td>\n",
       "      <td>0</td>\n",
       "      <td>0</td>\n",
       "      <td>0</td>\n",
       "      <td>0</td>\n",
       "      <td>0</td>\n",
       "      <td>0</td>\n",
       "      <td>0</td>\n",
       "      <td>0</td>\n",
       "      <td>0.00</td>\n",
       "      <td>67.00</td>\n",
       "      <td>1</td>\n",
       "      <td>1</td>\n",
       "      <td>0</td>\n",
       "      <td>1</td>\n",
       "      <td>1</td>\n",
       "    </tr>\n",
       "  </tbody>\n",
       "</table>\n",
       "</div>"
      ],
      "text/plain": [
       "     PrimaryPropertyType_1  PrimaryPropertyType_2  PrimaryPropertyType_3  \\\n",
       "743                      1                      0                      0   \n",
       "656                      0                      1                      0   \n",
       "704                      1                      0                      0   \n",
       "738                      1                      0                      0   \n",
       "496                      0                      0                      1   \n",
       "\n",
       "     PrimaryPropertyType_4  PrimaryPropertyType_5  PrimaryPropertyType_6  \\\n",
       "743                      0                      0                      0   \n",
       "656                      0                      0                      0   \n",
       "704                      0                      0                      0   \n",
       "738                      0                      0                      0   \n",
       "496                      0                      0                      0   \n",
       "\n",
       "     PrimaryPropertyType_7  PrimaryPropertyType_8  PrimaryPropertyType_9  \\\n",
       "743                      0                      0                      0   \n",
       "656                      0                      0                      0   \n",
       "704                      0                      0                      0   \n",
       "738                      0                      0                      0   \n",
       "496                      0                      0                      0   \n",
       "\n",
       "     PrimaryPropertyType_10  PrimaryPropertyType_11  PrimaryPropertyType_12  \\\n",
       "743                       0                       0                       0   \n",
       "656                       0                       0                       0   \n",
       "704                       0                       0                       0   \n",
       "738                       0                       0                       0   \n",
       "496                       0                       0                       0   \n",
       "\n",
       "     PrimaryPropertyType_13  PrimaryPropertyType_14  PrimaryPropertyType_15  \\\n",
       "743                       0                       0                       0   \n",
       "656                       0                       0                       0   \n",
       "704                       0                       0                       0   \n",
       "738                       0                       0                       0   \n",
       "496                       0                       0                       0   \n",
       "\n",
       "     PrimaryPropertyType_16  NumberofBuildings  NumberofFloors  \\\n",
       "743                       0               1.00               2   \n",
       "656                       0               1.00               1   \n",
       "704                       0               1.00               2   \n",
       "738                       0               1.00               3   \n",
       "496                       0               1.00               1   \n",
       "\n",
       "     PropertyGFAParking  PropertyGFABuilding(s)  LargestPropertyUseType_1  \\\n",
       "743                   0                   20671                         1   \n",
       "656                   0                   35289                         0   \n",
       "704                   0                   27574                         1   \n",
       "738               21908                   35224                         1   \n",
       "496                   0                   23409                         0   \n",
       "\n",
       "     LargestPropertyUseType_2  LargestPropertyUseType_3  \\\n",
       "743                         0                         0   \n",
       "656                         1                         0   \n",
       "704                         0                         0   \n",
       "738                         0                         0   \n",
       "496                         0                         1   \n",
       "\n",
       "     LargestPropertyUseType_4  LargestPropertyUseType_5  \\\n",
       "743                         0                         0   \n",
       "656                         0                         0   \n",
       "704                         0                         0   \n",
       "738                         0                         0   \n",
       "496                         0                         0   \n",
       "\n",
       "     LargestPropertyUseType_6  LargestPropertyUseType_7  \\\n",
       "743                         0                         0   \n",
       "656                         0                         0   \n",
       "704                         0                         0   \n",
       "738                         0                         0   \n",
       "496                         0                         0   \n",
       "\n",
       "     LargestPropertyUseType_8  LargestPropertyUseType_9  \\\n",
       "743                         0                         0   \n",
       "656                         0                         0   \n",
       "704                         0                         0   \n",
       "738                         0                         0   \n",
       "496                         0                         0   \n",
       "\n",
       "     LargestPropertyUseType_10  LargestPropertyUseType_11  \\\n",
       "743                          0                          0   \n",
       "656                          0                          0   \n",
       "704                          0                          0   \n",
       "738                          0                          0   \n",
       "496                          0                          0   \n",
       "\n",
       "     LargestPropertyUseType_12  LargestPropertyUseType_13  \\\n",
       "743                          0                          0   \n",
       "656                          0                          0   \n",
       "704                          0                          0   \n",
       "738                          0                          0   \n",
       "496                          0                          0   \n",
       "\n",
       "     LargestPropertyUseType_14  LargestPropertyUseType_15  \\\n",
       "743                          0                          0   \n",
       "656                          0                          0   \n",
       "704                          0                          0   \n",
       "738                          0                          0   \n",
       "496                          0                          0   \n",
       "\n",
       "     LargestPropertyUseType_16  LargestPropertyUseType_17  \\\n",
       "743                          0                          0   \n",
       "656                          0                          0   \n",
       "704                          0                          0   \n",
       "738                          0                          0   \n",
       "496                          0                          0   \n",
       "\n",
       "     LargestPropertyUseTypeGFA  SecondLargestPropertyUseType_1  \\\n",
       "743                  20,671.00                               1   \n",
       "656                  35,289.00                               1   \n",
       "704                  27,574.00                               1   \n",
       "738                  33,705.00                               0   \n",
       "496                  21,909.00                               0   \n",
       "\n",
       "     SecondLargestPropertyUseType_2  SecondLargestPropertyUseType_3  \\\n",
       "743                               0                               0   \n",
       "656                               0                               0   \n",
       "704                               0                               0   \n",
       "738                               0                               1   \n",
       "496                               0                               0   \n",
       "\n",
       "     SecondLargestPropertyUseType_4  SecondLargestPropertyUseType_5  \\\n",
       "743                               0                               0   \n",
       "656                               0                               0   \n",
       "704                               0                               0   \n",
       "738                               0                               0   \n",
       "496                               1                               0   \n",
       "\n",
       "     SecondLargestPropertyUseType_6  SecondLargestPropertyUseType_7  \\\n",
       "743                               0                               0   \n",
       "656                               0                               0   \n",
       "704                               0                               0   \n",
       "738                               0                               0   \n",
       "496                               0                               0   \n",
       "\n",
       "     SecondLargestPropertyUseType_8  SecondLargestPropertyUseType_9  \\\n",
       "743                               0                               0   \n",
       "656                               0                               0   \n",
       "704                               0                               0   \n",
       "738                               0                               0   \n",
       "496                               0                               0   \n",
       "\n",
       "     SecondLargestPropertyUseType_10  SecondLargestPropertyUseType_11  \\\n",
       "743                                0                                0   \n",
       "656                                0                                0   \n",
       "704                                0                                0   \n",
       "738                                0                                0   \n",
       "496                                0                                0   \n",
       "\n",
       "     SecondLargestPropertyUseType_12  SecondLargestPropertyUseType_13  \\\n",
       "743                                0                                0   \n",
       "656                                0                                0   \n",
       "704                                0                                0   \n",
       "738                                0                                0   \n",
       "496                                0                                0   \n",
       "\n",
       "     SecondLargestPropertyUseType_14  SecondLargestPropertyUseType_15  \\\n",
       "743                                0                                0   \n",
       "656                                0                                0   \n",
       "704                                0                                0   \n",
       "738                                0                                0   \n",
       "496                                0                                0   \n",
       "\n",
       "     SecondLargestPropertyUseType_16  SecondLargestPropertyUseType_17  \\\n",
       "743                                0                                0   \n",
       "656                                0                                0   \n",
       "704                                0                                0   \n",
       "738                                0                                0   \n",
       "496                                0                                0   \n",
       "\n",
       "     SecondLargestPropertyUseType_18  SecondLargestPropertyUseType_19  \\\n",
       "743                                0                                0   \n",
       "656                                0                                0   \n",
       "704                                0                                0   \n",
       "738                                0                                0   \n",
       "496                                0                                0   \n",
       "\n",
       "     SecondLargestPropertyUseType_20  SecondLargestPropertyUseType_21  \\\n",
       "743                                0                                0   \n",
       "656                                0                                0   \n",
       "704                                0                                0   \n",
       "738                                0                                0   \n",
       "496                                0                                0   \n",
       "\n",
       "     SecondLargestPropertyUseType_22  SecondLargestPropertyUseType_23  \\\n",
       "743                                0                                0   \n",
       "656                                0                                0   \n",
       "704                                0                                0   \n",
       "738                                0                                0   \n",
       "496                                0                                0   \n",
       "\n",
       "     SecondLargestPropertyUseType_24  SecondLargestPropertyUseType_25  \\\n",
       "743                                0                                0   \n",
       "656                                0                                0   \n",
       "704                                0                                0   \n",
       "738                                0                                0   \n",
       "496                                0                                0   \n",
       "\n",
       "     SecondLargestPropertyUseType_26  SecondLargestPropertyUseTypeGFA  \\\n",
       "743                                0                             0.00   \n",
       "656                                0                             0.00   \n",
       "704                                0                             0.00   \n",
       "738                                0                        21,908.00   \n",
       "496                                0                         1,500.00   \n",
       "\n",
       "     ThirdLargestPropertyUseType_1  ThirdLargestPropertyUseType_2  \\\n",
       "743                              1                              0   \n",
       "656                              1                              0   \n",
       "704                              1                              0   \n",
       "738                              1                              0   \n",
       "496                              1                              0   \n",
       "\n",
       "     ThirdLargestPropertyUseType_3  ThirdLargestPropertyUseType_4  \\\n",
       "743                              0                              0   \n",
       "656                              0                              0   \n",
       "704                              0                              0   \n",
       "738                              0                              0   \n",
       "496                              0                              0   \n",
       "\n",
       "     ThirdLargestPropertyUseType_5  ThirdLargestPropertyUseType_6  \\\n",
       "743                              0                              0   \n",
       "656                              0                              0   \n",
       "704                              0                              0   \n",
       "738                              0                              0   \n",
       "496                              0                              0   \n",
       "\n",
       "     ThirdLargestPropertyUseType_7  ThirdLargestPropertyUseType_8  \\\n",
       "743                              0                              0   \n",
       "656                              0                              0   \n",
       "704                              0                              0   \n",
       "738                              0                              0   \n",
       "496                              0                              0   \n",
       "\n",
       "     ThirdLargestPropertyUseType_9  ThirdLargestPropertyUseType_10  \\\n",
       "743                              0                               0   \n",
       "656                              0                               0   \n",
       "704                              0                               0   \n",
       "738                              0                               0   \n",
       "496                              0                               0   \n",
       "\n",
       "     ThirdLargestPropertyUseType_11  ThirdLargestPropertyUseType_12  \\\n",
       "743                               0                               0   \n",
       "656                               0                               0   \n",
       "704                               0                               0   \n",
       "738                               0                               0   \n",
       "496                               0                               0   \n",
       "\n",
       "     ThirdLargestPropertyUseType_13  ThirdLargestPropertyUseType_14  \\\n",
       "743                               0                               0   \n",
       "656                               0                               0   \n",
       "704                               0                               0   \n",
       "738                               0                               0   \n",
       "496                               0                               0   \n",
       "\n",
       "     ThirdLargestPropertyUseType_15  ThirdLargestPropertyUseType_16  \\\n",
       "743                               0                               0   \n",
       "656                               0                               0   \n",
       "704                               0                               0   \n",
       "738                               0                               0   \n",
       "496                               0                               0   \n",
       "\n",
       "     ThirdLargestPropertyUseType_17  ThirdLargestPropertyUseType_18  \\\n",
       "743                               0                               0   \n",
       "656                               0                               0   \n",
       "704                               0                               0   \n",
       "738                               0                               0   \n",
       "496                               0                               0   \n",
       "\n",
       "     ThirdLargestPropertyUseType_19  ThirdLargestPropertyUseType_20  \\\n",
       "743                               0                               0   \n",
       "656                               0                               0   \n",
       "704                               0                               0   \n",
       "738                               0                               0   \n",
       "496                               0                               0   \n",
       "\n",
       "     ThirdLargestPropertyUseType_21  ThirdLargestPropertyUseType_22  \\\n",
       "743                               0                               0   \n",
       "656                               0                               0   \n",
       "704                               0                               0   \n",
       "738                               0                               0   \n",
       "496                               0                               0   \n",
       "\n",
       "     ThirdLargestPropertyUseType_23  ThirdLargestPropertyUseType_24  \\\n",
       "743                               0                               0   \n",
       "656                               0                               0   \n",
       "704                               0                               0   \n",
       "738                               0                               0   \n",
       "496                               0                               0   \n",
       "\n",
       "     ThirdLargestPropertyUseType_25  ThirdLargestPropertyUseTypeGFA  \\\n",
       "743                               0                            0.00   \n",
       "656                               0                            0.00   \n",
       "704                               0                            0.00   \n",
       "738                               0                            0.00   \n",
       "496                               0                            0.00   \n",
       "\n",
       "     ENERGYSTARScore  SourceEUI(kBtu/sf)_binary  SiteEnergyUse(kBtu)_binary  \\\n",
       "743            98.00                          1                           1   \n",
       "656            63.00                          1                           1   \n",
       "704            73.00                          1                           1   \n",
       "738            73.00                          1                           1   \n",
       "496            67.00                          1                           1   \n",
       "\n",
       "     SteamUse(kBtu)_binary  Electricity(kBtu)_binary  NaturalGas(kBtu)_binary  \n",
       "743                      0                         1                        1  \n",
       "656                      0                         1                        1  \n",
       "704                      0                         1                        0  \n",
       "738                      0                         1                        0  \n",
       "496                      0                         1                        1  "
      ]
     },
     "execution_count": 25,
     "metadata": {},
     "output_type": "execute_result"
    }
   ],
   "source": [
    "X_test.head()"
   ]
  },
  {
   "cell_type": "code",
   "execution_count": 26,
   "id": "fbbceeaf",
   "metadata": {},
   "outputs": [
    {
     "data": {
      "text/plain": [
       "(315, 97)"
      ]
     },
     "execution_count": 26,
     "metadata": {},
     "output_type": "execute_result"
    }
   ],
   "source": [
    "X_test.shape"
   ]
  },
  {
   "cell_type": "code",
   "execution_count": 27,
   "id": "c9007b69",
   "metadata": {},
   "outputs": [],
   "source": [
    "cols = X_train.columns"
   ]
  },
  {
   "cell_type": "code",
   "execution_count": 28,
   "id": "23437024",
   "metadata": {},
   "outputs": [],
   "source": [
    "from sklearn.preprocessing import RobustScaler\n",
    "\n",
    "scaler = RobustScaler()\n",
    "\n",
    "X_train = scaler.fit_transform(X_train)\n",
    "\n",
    "X_test = scaler.transform(X_test)"
   ]
  },
  {
   "cell_type": "code",
   "execution_count": 29,
   "id": "bd7a5cee",
   "metadata": {},
   "outputs": [],
   "source": [
    "X_train = pd.DataFrame(X_train, columns=[cols])"
   ]
  },
  {
   "cell_type": "code",
   "execution_count": 30,
   "id": "ab2a3876",
   "metadata": {},
   "outputs": [],
   "source": [
    "X_test = pd.DataFrame(X_test, columns=[cols])"
   ]
  },
  {
   "cell_type": "markdown",
   "id": "98935d47",
   "metadata": {},
   "source": [
    "### Dummy Regressor\n"
   ]
  },
  {
   "cell_type": "code",
   "execution_count": 31,
   "id": "b1946cbf",
   "metadata": {},
   "outputs": [
    {
     "data": {
      "text/plain": [
       "DummyRegressor(strategy='median')"
      ]
     },
     "execution_count": 31,
     "metadata": {},
     "output_type": "execute_result"
    }
   ],
   "source": [
    "dummy_reg = DummyRegressor(strategy=\"median\")\n",
    "dummy_reg.fit(X_train, y_train)"
   ]
  },
  {
   "cell_type": "code",
   "execution_count": 32,
   "id": "1c48c5aa",
   "metadata": {
    "scrolled": true
   },
   "outputs": [
    {
     "name": "stdout",
     "output_type": "stream",
     "text": [
      "MAE:  1.15715\n",
      "MSE:  2.22531\n",
      "RMSE:  1.4917473898947993\n",
      "RMPSE:  3.972\n",
      "MAPE:  0.692\n",
      "R²:  -0.00045\n"
     ]
    }
   ],
   "source": [
    "y_pred = dummy_reg.predict(X_test)\n",
    "regression_metrics(np.array(y_test), y_pred)"
   ]
  },
  {
   "cell_type": "code",
   "execution_count": 33,
   "id": "f95eab95",
   "metadata": {},
   "outputs": [],
   "source": [
    "from sklearn.linear_model import LinearRegression\n",
    "from sklearn.ensemble import GradientBoostingRegressor, RandomForestRegressor\n",
    "import xgboost as xgb\n",
    "\n",
    "dummy_reg = DummyRegressor(strategy=\"median\")\n",
    "lin_reg = LinearRegression()\n",
    "gdboost = GradientBoostingRegressor(random_state=10)\n",
    "rdmforest = RandomForestRegressor(random_state=10)"
   ]
  },
  {
   "cell_type": "code",
   "execution_count": 34,
   "id": "680874fe",
   "metadata": {
    "scrolled": true
   },
   "outputs": [
    {
     "data": {
      "text/html": [
       "<div>\n",
       "<style scoped>\n",
       "    .dataframe tbody tr th:only-of-type {\n",
       "        vertical-align: middle;\n",
       "    }\n",
       "\n",
       "    .dataframe tbody tr th {\n",
       "        vertical-align: top;\n",
       "    }\n",
       "\n",
       "    .dataframe thead th {\n",
       "        text-align: right;\n",
       "    }\n",
       "</style>\n",
       "<table border=\"1\" class=\"dataframe\">\n",
       "  <thead>\n",
       "    <tr style=\"text-align: right;\">\n",
       "      <th></th>\n",
       "      <th>Dummy Regressor</th>\n",
       "      <th>Linear Regression</th>\n",
       "      <th>GradientBoosting</th>\n",
       "      <th>Random Forest</th>\n",
       "    </tr>\n",
       "  </thead>\n",
       "  <tbody>\n",
       "    <tr>\n",
       "      <th>MAE</th>\n",
       "      <td>1.16</td>\n",
       "      <td>0.68</td>\n",
       "      <td>0.53</td>\n",
       "      <td>0.56</td>\n",
       "    </tr>\n",
       "    <tr>\n",
       "      <th>MSE</th>\n",
       "      <td>2.23</td>\n",
       "      <td>0.81</td>\n",
       "      <td>0.47</td>\n",
       "      <td>0.56</td>\n",
       "    </tr>\n",
       "    <tr>\n",
       "      <th>RMSE</th>\n",
       "      <td>1.49</td>\n",
       "      <td>0.90</td>\n",
       "      <td>0.69</td>\n",
       "      <td>0.75</td>\n",
       "    </tr>\n",
       "    <tr>\n",
       "      <th>R²</th>\n",
       "      <td>-0.00</td>\n",
       "      <td>0.64</td>\n",
       "      <td>0.79</td>\n",
       "      <td>0.75</td>\n",
       "    </tr>\n",
       "  </tbody>\n",
       "</table>\n",
       "</div>"
      ],
      "text/plain": [
       "      Dummy Regressor  Linear Regression  GradientBoosting  Random Forest\n",
       "MAE              1.16               0.68              0.53           0.56\n",
       "MSE              2.23               0.81              0.47           0.56\n",
       "RMSE             1.49               0.90              0.69           0.75\n",
       "R²              -0.00               0.64              0.79           0.75"
      ]
     },
     "execution_count": 34,
     "metadata": {},
     "output_type": "execute_result"
    }
   ],
   "source": [
    "model = [dummy_reg, lin_reg, gdboost, rdmforest]\n",
    "dict_model = {}\n",
    "\n",
    "for model in model:\n",
    "    model.fit(X_train, y_train)\n",
    "    y_pred = model.predict(X_test)\n",
    "    mae = mean_absolute_error(y_test, y_pred)\n",
    "    mse = mean_squared_error(y_test, y_pred)\n",
    "    rmse = np.sqrt(mse)\n",
    "    r_score = r2_score(y_test, y_pred, multioutput=\"variance_weighted\").round(3)\n",
    "    dict_model[model] = (mae.round(3), mse.round(3), rmse.round(3), r_score)\n",
    "\n",
    "eval_model = pd.DataFrame(dict_model, index=[\"MAE\", \"MSE\", \"RMSE\", \"R²\"])\n",
    "eval_model.columns = [\"Dummy Regressor\", \"Linear Regression\", \"GradientBoosting\", \"Random Forest\"]\n",
    "\n",
    "eval_model"
   ]
  },
  {
   "cell_type": "markdown",
   "id": "0a952f3b",
   "metadata": {},
   "source": [
    "Nous allons maintenant chercher les hyperparamètres pour chaque modèle afin de déterminer lequel sera le plus adapté à notre problème\n"
   ]
  },
  {
   "cell_type": "code",
   "execution_count": 35,
   "id": "80578556",
   "metadata": {},
   "outputs": [],
   "source": [
    "# instanciation du modèle avec paramètre de base \n",
    "linear_reg = LinearRegression(n_jobs=-1)"
   ]
  },
  {
   "cell_type": "code",
   "execution_count": 36,
   "id": "e5ce896e",
   "metadata": {},
   "outputs": [
    {
     "data": {
      "text/plain": [
       "RandomizedSearchCV(cv=5, estimator=LinearRegression(n_jobs=-1),\n",
       "                   param_distributions={}, random_state=10,\n",
       "                   scoring='neg_mean_squared_error')"
      ]
     },
     "execution_count": 36,
     "metadata": {},
     "output_type": "execute_result"
    }
   ],
   "source": [
    "from sklearn.model_selection import RandomizedSearchCV\n",
    "from scipy.stats import randint\n",
    "\n",
    "param_distribs = {}\n",
    "\n",
    "rnd_search = RandomizedSearchCV(linear_reg, param_distributions=param_distribs,\n",
    "                                n_iter=10, cv=5, scoring='neg_mean_squared_error', random_state=10)\n",
    "rnd_search.fit(X_train, y_train)\n"
   ]
  },
  {
   "cell_type": "code",
   "execution_count": 37,
   "id": "ff916800",
   "metadata": {},
   "outputs": [],
   "source": [
    "final_model_energy_linear = rnd_search.best_estimator_"
   ]
  },
  {
   "cell_type": "code",
   "execution_count": 38,
   "id": "3ac6e6fa",
   "metadata": {},
   "outputs": [],
   "source": [
    "final_predictions_energy = final_model_energy_linear.predict(X_test)"
   ]
  },
  {
   "cell_type": "code",
   "execution_count": 39,
   "id": "c879aa45",
   "metadata": {},
   "outputs": [
    {
     "name": "stdout",
     "output_type": "stream",
     "text": [
      "MAE:  0.68098\n",
      "MSE:  0.81192\n",
      "RMSE:  0.901068181187127\n",
      "RMPSE:  1.25\n",
      "MAPE:  0.31041\n",
      "R²:  0.63498\n"
     ]
    }
   ],
   "source": [
    "regression_metrics(np.array(y_test), final_predictions_energy)"
   ]
  },
  {
   "cell_type": "code",
   "execution_count": 40,
   "id": "f99a6c5d",
   "metadata": {},
   "outputs": [
    {
     "data": {
      "image/png": "[encoded data removed]",
      "text/plain": [
       "<Figure size 432x288 with 1 Axes>"
      ]
     },
     "metadata": {
      "needs_background": "light"
     },
     "output_type": "display_data"
    }
   ],
   "source": [
    "visualizer = prediction_error(final_model_energy_linear, np.array(X_train), np.array(y_train), np.array(X_test), np.array(y_test));\n"
   ]
  },
  {
   "cell_type": "code",
   "execution_count": 41,
   "id": "5de5e112",
   "metadata": {},
   "outputs": [],
   "source": [
    "# instanciation du modèle avec paramètre de base \n",
    "gdboost = GradientBoostingRegressor()"
   ]
  },
  {
   "cell_type": "code",
   "execution_count": 42,
   "id": "da2812ad",
   "metadata": {},
   "outputs": [
    {
     "data": {
      "text/plain": [
       "RandomizedSearchCV(cv=5, estimator=GradientBoostingRegressor(),\n",
       "                   param_distributions={'max_depth': [5, 15, 26, 36, 47, 57, 68,\n",
       "                                                      78, 89, 99, 110],\n",
       "                                        'max_features': ['auto', 'sqrt'],\n",
       "                                        'min_samples_leaf': <scipy.stats._distn_infrastructure.rv_frozen object at 0x000002906C6220D0>,\n",
       "                                        'min_samples_split': <scipy.stats._distn_infrastructure.rv_frozen object at 0x000002906C62AE80>,\n",
       "                                        'n_estimators': [200, 288, 377, 466,\n",
       "                                                         555, 644, 733, 822,\n",
       "                                                         911, 1000]},\n",
       "                   random_state=10, scoring='neg_mean_squared_error')"
      ]
     },
     "execution_count": 42,
     "metadata": {},
     "output_type": "execute_result"
    }
   ],
   "source": [
    "from sklearn.model_selection import RandomizedSearchCV\n",
    "from scipy.stats import randint\n",
    "\n",
    "param_distribs = {\n",
    "        \"n_estimators\" : [int(x) for x in np.linspace(start=200, stop=1000, num=10)],\n",
    "        \"max_features\" : [\"auto\", \"sqrt\"],\n",
    "        \"max_depth\": [int(x) for x in np.linspace(start=5, stop=110, num=11)],\n",
    "        \"min_samples_split\" : randint(low=2, high=10),\n",
    "        \"min_samples_leaf\" : randint(low=2, high=10)\n",
    "    }\n",
    "rnd_search = RandomizedSearchCV(gdboost, param_distributions=param_distribs,\n",
    "                                n_iter=10, cv=5, scoring='neg_mean_squared_error', random_state=10)\n",
    "rnd_search.fit(X_train, y_train)"
   ]
  },
  {
   "cell_type": "code",
   "execution_count": 43,
   "id": "374aa2e3",
   "metadata": {
    "scrolled": true
   },
   "outputs": [
    {
     "data": {
      "text/plain": [
       "{'max_depth': 89,\n",
       " 'max_features': 'sqrt',\n",
       " 'min_samples_leaf': 4,\n",
       " 'min_samples_split': 8,\n",
       " 'n_estimators': 288}"
      ]
     },
     "execution_count": 43,
     "metadata": {},
     "output_type": "execute_result"
    }
   ],
   "source": [
    "rnd_search.best_params_"
   ]
  },
  {
   "cell_type": "code",
   "execution_count": 44,
   "id": "1783957d",
   "metadata": {},
   "outputs": [],
   "source": [
    "final_model_energy_gdboost = rnd_search.best_estimator_"
   ]
  },
  {
   "cell_type": "code",
   "execution_count": 45,
   "id": "e4c394a1",
   "metadata": {},
   "outputs": [],
   "source": [
    "final_predictions_energy = final_model_energy_gdboost.predict(X_test)"
   ]
  },
  {
   "cell_type": "code",
   "execution_count": 46,
   "id": "f46e1e00",
   "metadata": {},
   "outputs": [
    {
     "name": "stdout",
     "output_type": "stream",
     "text": [
      "MAE:  0.5448\n",
      "MSE:  0.51447\n",
      "RMSE:  0.7172630483567157\n",
      "RMPSE:  0.829\n",
      "MAPE:  0.22356\n",
      "R²:  0.76871\n"
     ]
    }
   ],
   "source": [
    "regression_metrics(np.array(y_test), final_predictions_energy)"
   ]
  },
  {
   "cell_type": "code",
   "execution_count": 47,
   "id": "d2f1a5b0",
   "metadata": {
    "scrolled": false
   },
   "outputs": [
    {
     "data": {
      "image/png": "[encoded data removed]",
      "text/plain": [
       "<Figure size 432x288 with 1 Axes>"
      ]
     },
     "metadata": {
      "needs_background": "light"
     },
     "output_type": "display_data"
    }
   ],
   "source": [
    "visualizer = prediction_error(final_model_energy_gdboost, np.array(X_train), np.array(y_train), np.array(X_test), np.array(y_test));\n"
   ]
  },
  {
   "cell_type": "code",
   "execution_count": 48,
   "id": "85c5c775",
   "metadata": {},
   "outputs": [],
   "source": [
    "from sklearn.ensemble import RandomForestRegressor\n",
    "\n",
    "regressor = RandomForestRegressor(n_estimators = 100, random_state = 0)\n",
    "\n",
    "# fit the regressor with x and y data\n",
    "regressor.fit(X_train, y_train)\n",
    "\n",
    "# Predict the Test set results\n",
    "y_pred = regressor.predict(X_test)\n"
   ]
  },
  {
   "cell_type": "code",
   "execution_count": 49,
   "id": "74a91557",
   "metadata": {},
   "outputs": [],
   "source": [
    "# instanciation du modèle avec paramètre de base \n",
    "forest_reg = RandomForestRegressor(random_state=10, n_jobs=-1)"
   ]
  },
  {
   "cell_type": "code",
   "execution_count": 50,
   "id": "970303db",
   "metadata": {},
   "outputs": [
    {
     "data": {
      "text/plain": [
       "RandomizedSearchCV(cv=5, estimator=RandomForestRegressor(random_state=0),\n",
       "                   param_distributions={'bootstrap': [True, False],\n",
       "                                        'max_depth': [5, 15, 26, 36, 47, 57, 68,\n",
       "                                                      78, 89, 99, 110],\n",
       "                                        'max_features': ['auto', 'sqrt'],\n",
       "                                        'min_samples_leaf': <scipy.stats._distn_infrastructure.rv_frozen object at 0x000002906D84C190>,\n",
       "                                        'min_samples_split': <scipy.stats._distn_infrastructure.rv_frozen object at 0x000002906D86B640>,\n",
       "                                        'n_estimators': [200, 288, 377, 466,\n",
       "                                                         555, 644, 733, 822,\n",
       "                                                         911, 1000]},\n",
       "                   random_state=10, scoring='neg_mean_squared_error')"
      ]
     },
     "execution_count": 50,
     "metadata": {},
     "output_type": "execute_result"
    }
   ],
   "source": [
    "from sklearn.model_selection import RandomizedSearchCV\n",
    "from scipy.stats import randint\n",
    "\n",
    "param_distribs = {\n",
    "        \"n_estimators\" : [int(x) for x in np.linspace(start=200, stop=1000, num=10)],\n",
    "        \"max_features\" : [\"auto\", \"sqrt\"],\n",
    "        \"max_depth\": [int(x) for x in np.linspace(start=5, stop=110, num=11)],\n",
    "        \"min_samples_split\" : randint(low=2, high=10),\n",
    "        \"min_samples_leaf\" : randint(low=2, high=10),\n",
    "        \"bootstrap\" : [True, False]\n",
    "    }\n",
    "\n",
    "rnd_search = RandomizedSearchCV(regressor, param_distributions=param_distribs,\n",
    "                                n_iter=10, cv=5, scoring='neg_mean_squared_error', random_state=10)\n",
    "rnd_search.fit(X_train, y_train)\n"
   ]
  },
  {
   "cell_type": "code",
   "execution_count": 51,
   "id": "589407cd",
   "metadata": {},
   "outputs": [
    {
     "data": {
      "text/plain": [
       "{'bootstrap': True,\n",
       " 'max_depth': 110,\n",
       " 'max_features': 'auto',\n",
       " 'min_samples_leaf': 3,\n",
       " 'min_samples_split': 2,\n",
       " 'n_estimators': 555}"
      ]
     },
     "execution_count": 51,
     "metadata": {},
     "output_type": "execute_result"
    }
   ],
   "source": [
    "rnd_search.best_params_"
   ]
  },
  {
   "cell_type": "code",
   "execution_count": 52,
   "id": "48b91bcf",
   "metadata": {},
   "outputs": [
    {
     "data": {
      "text/plain": [
       "'from sklearn.model_selection import GridSearchCV\\n\\nparams = [{\"bootstrap\":[True],\\n           \"max_depth\" : [79, 89, 99, 109, 119, 129],\\n           \"max_features\" : [\"auto\"],\\n           \"min_samples_leaf\" : [2, 3, 4],\\n           \"min_samples_split\" : [2,3,4],\\n           \"n_estimators\" : [900, 1000, 1100]\\n}]\\n\\ngrid_search = GridSearchCV(forest_reg, params, cv=5,\\n                           scoring=\\'neg_mean_squared_error\\')\\ngrid_search.fit(X_train, y_train)'"
      ]
     },
     "execution_count": 52,
     "metadata": {},
     "output_type": "execute_result"
    }
   ],
   "source": [
    "'''from sklearn.model_selection import GridSearchCV\n",
    "\n",
    "params = [{\"bootstrap\":[True],\n",
    "           \"max_depth\" : [79, 89, 99, 109, 119, 129],\n",
    "           \"max_features\" : [\"auto\"],\n",
    "           \"min_samples_leaf\" : [2, 3, 4],\n",
    "           \"min_samples_split\" : [2,3,4],\n",
    "           \"n_estimators\" : [900, 1000, 1100]\n",
    "}]\n",
    "\n",
    "grid_search = GridSearchCV(forest_reg, params, cv=5,\n",
    "                           scoring='neg_mean_squared_error')\n",
    "grid_search.fit(X_train, y_train)'''"
   ]
  },
  {
   "cell_type": "code",
   "execution_count": 53,
   "id": "527d1c45",
   "metadata": {
    "scrolled": true
   },
   "outputs": [],
   "source": [
    "#grid_search.best_params_"
   ]
  },
  {
   "cell_type": "code",
   "execution_count": 54,
   "id": "b7747c6f",
   "metadata": {},
   "outputs": [],
   "source": [
    "final_model_energy_forest = rnd_search.best_estimator_"
   ]
  },
  {
   "cell_type": "code",
   "execution_count": 55,
   "id": "2c86bf2f",
   "metadata": {},
   "outputs": [],
   "source": [
    "final_predictions_energy = final_model_energy_forest.predict(X_test)"
   ]
  },
  {
   "cell_type": "code",
   "execution_count": 56,
   "id": "8d2c3c13",
   "metadata": {},
   "outputs": [
    {
     "name": "stdout",
     "output_type": "stream",
     "text": [
      "MAE:  0.56621\n",
      "MSE:  0.56841\n",
      "RMSE:  0.7539321888098851\n",
      "RMPSE:  1.962\n",
      "MAPE:  0.3079\n",
      "R²:  0.74445\n"
     ]
    }
   ],
   "source": [
    "regression_metrics(np.array(y_test), final_predictions_energy)"
   ]
  },
  {
   "cell_type": "code",
   "execution_count": 57,
   "id": "9aaca331",
   "metadata": {
    "scrolled": true
   },
   "outputs": [
    {
     "data": {
      "image/png": "[encoded data removed]",
      "text/plain": [
       "<Figure size 432x288 with 1 Axes>"
      ]
     },
     "metadata": {
      "needs_background": "light"
     },
     "output_type": "display_data"
    }
   ],
   "source": [
    "visualizer = prediction_error(final_model_energy_forest, np.array(X_train), np.array(y_train), np.array(X_test), np.array(y_test));\n"
   ]
  },
  {
   "cell_type": "markdown",
   "id": "67d7d7aa",
   "metadata": {},
   "source": [
    "Le random forest est donc le meilleur modèle pour notre problème"
   ]
  },
  {
   "cell_type": "code",
   "execution_count": 58,
   "id": "98f19c09",
   "metadata": {},
   "outputs": [],
   "source": [
    "feature_importances_forest = pd.DataFrame(final_model_energy_forest.feature_importances_,\n",
    "                                   index = X_train.columns,\n",
    "                                    columns=['importance']).sort_values('importance',ascending=False)\n",
    "\n",
    "feature_importances_gradient = pd.DataFrame(final_model_energy_gdboost.feature_importances_,\n",
    "                                   index = X_train.columns,\n",
    "                                    columns=['importance']).sort_values('importance',ascending=False)"
   ]
  },
  {
   "cell_type": "code",
   "execution_count": 59,
   "id": "8515df25",
   "metadata": {
    "scrolled": true
   },
   "outputs": [
    {
     "data": {
      "text/html": [
       "<div>\n",
       "<style scoped>\n",
       "    .dataframe tbody tr th:only-of-type {\n",
       "        vertical-align: middle;\n",
       "    }\n",
       "\n",
       "    .dataframe tbody tr th {\n",
       "        vertical-align: top;\n",
       "    }\n",
       "\n",
       "    .dataframe thead th {\n",
       "        text-align: right;\n",
       "    }\n",
       "</style>\n",
       "<table border=\"1\" class=\"dataframe\">\n",
       "  <thead>\n",
       "    <tr style=\"text-align: right;\">\n",
       "      <th></th>\n",
       "      <th>importance</th>\n",
       "    </tr>\n",
       "  </thead>\n",
       "  <tbody>\n",
       "    <tr>\n",
       "      <th>LargestPropertyUseTypeGFA</th>\n",
       "      <td>0.26</td>\n",
       "    </tr>\n",
       "    <tr>\n",
       "      <th>PropertyGFABuilding(s)</th>\n",
       "      <td>0.25</td>\n",
       "    </tr>\n",
       "    <tr>\n",
       "      <th>NaturalGas(kBtu)_binary</th>\n",
       "      <td>0.19</td>\n",
       "    </tr>\n",
       "    <tr>\n",
       "      <th>ENERGYSTARScore</th>\n",
       "      <td>0.11</td>\n",
       "    </tr>\n",
       "    <tr>\n",
       "      <th>NumberofFloors</th>\n",
       "      <td>0.04</td>\n",
       "    </tr>\n",
       "  </tbody>\n",
       "</table>\n",
       "</div>"
      ],
      "text/plain": [
       "                           importance\n",
       "LargestPropertyUseTypeGFA        0.26\n",
       "PropertyGFABuilding(s)           0.25\n",
       "NaturalGas(kBtu)_binary          0.19\n",
       "ENERGYSTARScore                  0.11\n",
       "NumberofFloors                   0.04"
      ]
     },
     "execution_count": 59,
     "metadata": {},
     "output_type": "execute_result"
    }
   ],
   "source": [
    "pd.set_option(\"display.max_rows\", None, \"display.max_columns\", None)\n",
    "feature_importances_forest.head()"
   ]
  },
  {
   "cell_type": "code",
   "execution_count": 60,
   "id": "b9da7ab3",
   "metadata": {},
   "outputs": [
    {
     "data": {
      "text/html": [
       "<div>\n",
       "<style scoped>\n",
       "    .dataframe tbody tr th:only-of-type {\n",
       "        vertical-align: middle;\n",
       "    }\n",
       "\n",
       "    .dataframe tbody tr th {\n",
       "        vertical-align: top;\n",
       "    }\n",
       "\n",
       "    .dataframe thead th {\n",
       "        text-align: right;\n",
       "    }\n",
       "</style>\n",
       "<table border=\"1\" class=\"dataframe\">\n",
       "  <thead>\n",
       "    <tr style=\"text-align: right;\">\n",
       "      <th></th>\n",
       "      <th>importance</th>\n",
       "    </tr>\n",
       "  </thead>\n",
       "  <tbody>\n",
       "    <tr>\n",
       "      <th>LargestPropertyUseTypeGFA</th>\n",
       "      <td>0.31</td>\n",
       "    </tr>\n",
       "    <tr>\n",
       "      <th>NaturalGas(kBtu)_binary</th>\n",
       "      <td>0.15</td>\n",
       "    </tr>\n",
       "    <tr>\n",
       "      <th>PropertyGFABuilding(s)</th>\n",
       "      <td>0.11</td>\n",
       "    </tr>\n",
       "    <tr>\n",
       "      <th>ENERGYSTARScore</th>\n",
       "      <td>0.10</td>\n",
       "    </tr>\n",
       "    <tr>\n",
       "      <th>SecondLargestPropertyUseTypeGFA</th>\n",
       "      <td>0.04</td>\n",
       "    </tr>\n",
       "  </tbody>\n",
       "</table>\n",
       "</div>"
      ],
      "text/plain": [
       "                                 importance\n",
       "LargestPropertyUseTypeGFA              0.31\n",
       "NaturalGas(kBtu)_binary                0.15\n",
       "PropertyGFABuilding(s)                 0.11\n",
       "ENERGYSTARScore                        0.10\n",
       "SecondLargestPropertyUseTypeGFA        0.04"
      ]
     },
     "execution_count": 60,
     "metadata": {},
     "output_type": "execute_result"
    }
   ],
   "source": [
    "pd.set_option(\"display.max_rows\", None, \"display.max_columns\", None)\n",
    "feature_importances_gradient.head()"
   ]
  },
  {
   "cell_type": "code",
   "execution_count": 61,
   "id": "86341cbb",
   "metadata": {},
   "outputs": [],
   "source": [
    "df = pd.read_csv(\"projet3.csv\", sep=',')\n",
    "\n",
    "X = df.drop(['TotalGHGEmissions_log','TotalGHGEmissions','SiteEnergyUse(kBtu)_log','SiteEnergyUse(kBtu)','ENERGYSTARScore'], axis=1)\n",
    "y = df['TotalGHGEmissions_log']\n",
    "\n",
    "\n",
    "X_train, X_test, y_train, y_test = train_test_split(X, y, test_size = 0.3, random_state = 0)\n",
    "\n",
    "encoder = ce.OneHotEncoder(cols=['PrimaryPropertyType',\n",
    " 'LargestPropertyUseType',\n",
    " 'SecondLargestPropertyUseType',\n",
    " 'ThirdLargestPropertyUseType'])\n",
    "\n",
    "X_train = encoder.fit_transform(X_train)\n",
    "\n",
    "X_test = encoder.transform(X_test)\n",
    "\n",
    "cols = X_train.columns\n",
    "\n",
    "scaler = RobustScaler()\n",
    "\n",
    "X_train = scaler.fit_transform(X_train)\n",
    "\n",
    "X_test = scaler.transform(X_test)"
   ]
  },
  {
   "cell_type": "code",
   "execution_count": 62,
   "id": "13ad60a0",
   "metadata": {},
   "outputs": [],
   "source": [
    "X_train = pd.DataFrame(X_train, columns=[cols])"
   ]
  },
  {
   "cell_type": "code",
   "execution_count": 63,
   "id": "2c263684",
   "metadata": {},
   "outputs": [],
   "source": [
    "X_test = pd.DataFrame(X_test, columns=[cols])"
   ]
  },
  {
   "cell_type": "code",
   "execution_count": 64,
   "id": "2e513e8a",
   "metadata": {},
   "outputs": [
    {
     "name": "stdout",
     "output_type": "stream",
     "text": [
      "MAE:  1.15715\n",
      "MSE:  2.22531\n",
      "RMSE:  1.4917473898947993\n",
      "RMPSE:  3.972\n",
      "MAPE:  0.692\n",
      "R²:  -0.00045\n"
     ]
    }
   ],
   "source": [
    "dummy_reg = DummyRegressor(strategy=\"median\")\n",
    "dummy_reg.fit(X_train, y_train)\n",
    "y_pred = dummy_reg.predict(X_test)\n",
    "regression_metrics(np.array(y_test), y_pred)"
   ]
  },
  {
   "cell_type": "code",
   "execution_count": 65,
   "id": "96651c5e",
   "metadata": {},
   "outputs": [],
   "source": [
    "dummy_reg = DummyRegressor(strategy=\"median\")\n",
    "lin_reg = LinearRegression()\n",
    "gdboost = GradientBoostingRegressor(random_state=10)\n",
    "rdmforest = RandomForestRegressor(random_state=10)"
   ]
  },
  {
   "cell_type": "code",
   "execution_count": 66,
   "id": "6dab5464",
   "metadata": {},
   "outputs": [
    {
     "data": {
      "text/html": [
       "<div>\n",
       "<style scoped>\n",
       "    .dataframe tbody tr th:only-of-type {\n",
       "        vertical-align: middle;\n",
       "    }\n",
       "\n",
       "    .dataframe tbody tr th {\n",
       "        vertical-align: top;\n",
       "    }\n",
       "\n",
       "    .dataframe thead th {\n",
       "        text-align: right;\n",
       "    }\n",
       "</style>\n",
       "<table border=\"1\" class=\"dataframe\">\n",
       "  <thead>\n",
       "    <tr style=\"text-align: right;\">\n",
       "      <th></th>\n",
       "      <th>Dummy Regressor</th>\n",
       "      <th>Linear Regression</th>\n",
       "      <th>GradientBoosting</th>\n",
       "      <th>Random Forest</th>\n",
       "    </tr>\n",
       "  </thead>\n",
       "  <tbody>\n",
       "    <tr>\n",
       "      <th>MAE</th>\n",
       "      <td>1.16</td>\n",
       "      <td>0.73</td>\n",
       "      <td>0.58</td>\n",
       "      <td>0.62</td>\n",
       "    </tr>\n",
       "    <tr>\n",
       "      <th>MSE</th>\n",
       "      <td>2.23</td>\n",
       "      <td>0.93</td>\n",
       "      <td>0.61</td>\n",
       "      <td>0.69</td>\n",
       "    </tr>\n",
       "    <tr>\n",
       "      <th>RMSE</th>\n",
       "      <td>1.49</td>\n",
       "      <td>0.96</td>\n",
       "      <td>0.78</td>\n",
       "      <td>0.83</td>\n",
       "    </tr>\n",
       "    <tr>\n",
       "      <th>R²</th>\n",
       "      <td>-0.00</td>\n",
       "      <td>0.58</td>\n",
       "      <td>0.73</td>\n",
       "      <td>0.69</td>\n",
       "    </tr>\n",
       "  </tbody>\n",
       "</table>\n",
       "</div>"
      ],
      "text/plain": [
       "      Dummy Regressor  Linear Regression  GradientBoosting  Random Forest\n",
       "MAE              1.16               0.73              0.58           0.62\n",
       "MSE              2.23               0.93              0.61           0.69\n",
       "RMSE             1.49               0.96              0.78           0.83\n",
       "R²              -0.00               0.58              0.73           0.69"
      ]
     },
     "execution_count": 66,
     "metadata": {},
     "output_type": "execute_result"
    }
   ],
   "source": [
    "model = [dummy_reg, lin_reg, gdboost, rdmforest]\n",
    "dict_model = {}\n",
    "\n",
    "for model in model:\n",
    "    model.fit(X_train, y_train)\n",
    "    y_pred = model.predict(X_test)\n",
    "    mae = mean_absolute_error(y_test, y_pred)\n",
    "    mse = mean_squared_error(y_test, y_pred)\n",
    "    rmse = np.sqrt(mse)\n",
    "    r_score = r2_score(y_test, y_pred, multioutput=\"variance_weighted\").round(3)\n",
    "    dict_model[model] = (mae.round(3), mse.round(3), rmse.round(3), r_score)\n",
    "\n",
    "eval_model = pd.DataFrame(dict_model, index=[\"MAE\", \"MSE\", \"RMSE\", \"R²\"])\n",
    "eval_model.columns = [\"Dummy Regressor\", \"Linear Regression\", \"GradientBoosting\", \"Random Forest\"]\n",
    "\n",
    "eval_model"
   ]
  },
  {
   "cell_type": "code",
   "execution_count": 67,
   "id": "35ce41d2",
   "metadata": {},
   "outputs": [],
   "source": [
    "# instanciation du modèle avec paramètre de base \n",
    "linear_reg = LinearRegression(n_jobs=-1)"
   ]
  },
  {
   "cell_type": "code",
   "execution_count": 68,
   "id": "9c7b4353",
   "metadata": {},
   "outputs": [
    {
     "data": {
      "text/plain": [
       "RandomizedSearchCV(cv=5, estimator=LinearRegression(n_jobs=-1),\n",
       "                   param_distributions={}, random_state=10,\n",
       "                   scoring='neg_mean_squared_error')"
      ]
     },
     "execution_count": 68,
     "metadata": {},
     "output_type": "execute_result"
    }
   ],
   "source": [
    "param_distribs = {}\n",
    "\n",
    "rnd_search = RandomizedSearchCV(linear_reg, param_distributions=param_distribs,\n",
    "                                n_iter=10, cv=5, scoring='neg_mean_squared_error', random_state=10)\n",
    "rnd_search.fit(X_train, y_train)"
   ]
  },
  {
   "cell_type": "code",
   "execution_count": 69,
   "id": "b4f9c8d4",
   "metadata": {},
   "outputs": [
    {
     "name": "stdout",
     "output_type": "stream",
     "text": [
      "MAE:  0.73167\n",
      "MSE:  0.92844\n",
      "RMSE:  0.9635560905895019\n",
      "RMPSE:  1.773\n",
      "MAPE:  0.36449\n",
      "R²:  0.58259\n"
     ]
    }
   ],
   "source": [
    "final_model_energy_linear = rnd_search.best_estimator_\n",
    "final_predictions_energy = final_model_energy_linear.predict(X_test)\n",
    "regression_metrics(np.array(y_test), final_predictions_energy)"
   ]
  },
  {
   "cell_type": "code",
   "execution_count": 70,
   "id": "22fd3f85",
   "metadata": {},
   "outputs": [
    {
     "data": {
      "image/png": "[encoded data removed]",
      "text/plain": [
       "<Figure size 432x288 with 1 Axes>"
      ]
     },
     "metadata": {
      "needs_background": "light"
     },
     "output_type": "display_data"
    }
   ],
   "source": [
    "visualizer = prediction_error(final_model_energy_linear, np.array(X_train), np.array(y_train), np.array(X_test), np.array(y_test));\n"
   ]
  },
  {
   "cell_type": "code",
   "execution_count": 71,
   "id": "66196e8e",
   "metadata": {},
   "outputs": [
    {
     "data": {
      "text/plain": [
       "RandomizedSearchCV(cv=5, estimator=GradientBoostingRegressor(),\n",
       "                   param_distributions={'max_depth': [5, 15, 26, 36, 47, 57, 68,\n",
       "                                                      78, 89, 99, 110],\n",
       "                                        'max_features': ['auto', 'sqrt'],\n",
       "                                        'min_samples_leaf': <scipy.stats._distn_infrastructure.rv_frozen object at 0x000002906D8416A0>,\n",
       "                                        'min_samples_split': <scipy.stats._distn_infrastructure.rv_frozen object at 0x000002906D8DF520>,\n",
       "                                        'n_estimators': [200, 288, 377, 466,\n",
       "                                                         555, 644, 733, 822,\n",
       "                                                         911, 1000]},\n",
       "                   random_state=10, scoring='neg_mean_squared_error')"
      ]
     },
     "execution_count": 71,
     "metadata": {},
     "output_type": "execute_result"
    }
   ],
   "source": [
    "gdboost = GradientBoostingRegressor()\n",
    "param_distribs = {\n",
    "        \"n_estimators\" : [int(x) for x in np.linspace(start=200, stop=1000, num=10)],\n",
    "        \"max_features\" : [\"auto\", \"sqrt\"],\n",
    "        \"max_depth\": [int(x) for x in np.linspace(start=5, stop=110, num=11)],\n",
    "        \"min_samples_split\" : randint(low=2, high=10),\n",
    "        \"min_samples_leaf\" : randint(low=2, high=10)\n",
    "    }\n",
    "rnd_search = RandomizedSearchCV(gdboost, param_distributions=param_distribs,\n",
    "                                n_iter=10, cv=5, scoring='neg_mean_squared_error', random_state=10)\n",
    "rnd_search.fit(X_train, y_train)"
   ]
  },
  {
   "cell_type": "code",
   "execution_count": 72,
   "id": "94c9c6c7",
   "metadata": {},
   "outputs": [
    {
     "name": "stdout",
     "output_type": "stream",
     "text": [
      "MAE:  0.6173\n",
      "MSE:  0.68636\n",
      "RMSE:  0.8284691188453547\n",
      "RMPSE:  1.638\n",
      "MAPE:  0.29328\n",
      "R²:  0.69143\n"
     ]
    }
   ],
   "source": [
    "final_model_energy_gdboost = rnd_search.best_estimator_\n",
    "final_predictions_energy = final_model_energy_gdboost.predict(X_test)\n",
    "regression_metrics(np.array(y_test), final_predictions_energy)"
   ]
  },
  {
   "cell_type": "code",
   "execution_count": 73,
   "id": "e3729f0a",
   "metadata": {},
   "outputs": [
    {
     "data": {
      "image/png": "[encoded data removed]",
      "text/plain": [
       "<Figure size 432x288 with 1 Axes>"
      ]
     },
     "metadata": {
      "needs_background": "light"
     },
     "output_type": "display_data"
    }
   ],
   "source": [
    "visualizer = prediction_error(final_model_energy_gdboost, np.array(X_train), np.array(y_train), np.array(X_test), np.array(y_test));\n"
   ]
  },
  {
   "cell_type": "code",
   "execution_count": 74,
   "id": "b16af56e",
   "metadata": {},
   "outputs": [
    {
     "data": {
      "text/plain": [
       "RandomizedSearchCV(cv=5, estimator=RandomForestRegressor(random_state=0),\n",
       "                   param_distributions={'bootstrap': [True, False],\n",
       "                                        'max_depth': [5, 15, 26, 36, 47, 57, 68,\n",
       "                                                      78, 89, 99, 110],\n",
       "                                        'max_features': ['auto', 'sqrt'],\n",
       "                                        'min_samples_leaf': <scipy.stats._distn_infrastructure.rv_frozen object at 0x000002906D8E28E0>,\n",
       "                                        'min_samples_split': <scipy.stats._distn_infrastructure.rv_frozen object at 0x000002906D8E2FA0>,\n",
       "                                        'n_estimators': [200, 288, 377, 466,\n",
       "                                                         555, 644, 733, 822,\n",
       "                                                         911, 1000]},\n",
       "                   random_state=10, scoring='neg_mean_squared_error')"
      ]
     },
     "execution_count": 74,
     "metadata": {},
     "output_type": "execute_result"
    }
   ],
   "source": [
    "forest_reg = RandomForestRegressor(random_state=10, n_jobs=-1)\n",
    "param_distribs = {\n",
    "        \"n_estimators\" : [int(x) for x in np.linspace(start=200, stop=1000, num=10)],\n",
    "        \"max_features\" : [\"auto\", \"sqrt\"],\n",
    "        \"max_depth\": [int(x) for x in np.linspace(start=5, stop=110, num=11)],\n",
    "        \"min_samples_split\" : randint(low=2, high=10),\n",
    "        \"min_samples_leaf\" : randint(low=2, high=10),\n",
    "        \"bootstrap\" : [True, False]\n",
    "    }\n",
    "\n",
    "rnd_search = RandomizedSearchCV(regressor, param_distributions=param_distribs,\n",
    "                                n_iter=10, cv=5, scoring='neg_mean_squared_error', random_state=10)\n",
    "rnd_search.fit(X_train, y_train)"
   ]
  },
  {
   "cell_type": "code",
   "execution_count": 75,
   "id": "c7ab93f4",
   "metadata": {},
   "outputs": [
    {
     "name": "stdout",
     "output_type": "stream",
     "text": [
      "MAE:  0.62201\n",
      "MSE:  0.66972\n",
      "RMSE:  0.8183642428310232\n",
      "RMPSE:  2.404\n",
      "MAPE:  0.36159\n",
      "R²:  0.69891\n"
     ]
    }
   ],
   "source": [
    "final_model_energy_forest = rnd_search.best_estimator_\n",
    "final_predictions_energy = final_model_energy_forest.predict(X_test)\n",
    "regression_metrics(np.array(y_test), final_predictions_energy)"
   ]
  },
  {
   "cell_type": "code",
   "execution_count": 76,
   "id": "5d374bf3",
   "metadata": {},
   "outputs": [
    {
     "data": {
      "image/png": "[encoded data removed]",
      "text/plain": [
       "<Figure size 432x288 with 1 Axes>"
      ]
     },
     "metadata": {
      "needs_background": "light"
     },
     "output_type": "display_data"
    }
   ],
   "source": [
    "visualizer = prediction_error(final_model_energy_forest, np.array(X_train), np.array(y_train), np.array(X_test), np.array(y_test));\n"
   ]
  },
  {
   "cell_type": "code",
   "execution_count": 77,
   "id": "a122b7a8",
   "metadata": {},
   "outputs": [],
   "source": [
    "feature_importances_forest = pd.DataFrame(final_model_energy_forest.feature_importances_,\n",
    "                                   index = X_train.columns,\n",
    "                                    columns=['importance']).sort_values('importance',ascending=False)\n",
    "\n",
    "feature_importances_gradient = pd.DataFrame(final_model_energy_gdboost.feature_importances_,\n",
    "                                   index = X_train.columns,\n",
    "                                    columns=['importance']).sort_values('importance',ascending=False)"
   ]
  },
  {
   "cell_type": "code",
   "execution_count": 78,
   "id": "cd480889",
   "metadata": {},
   "outputs": [
    {
     "data": {
      "text/html": [
       "<div>\n",
       "<style scoped>\n",
       "    .dataframe tbody tr th:only-of-type {\n",
       "        vertical-align: middle;\n",
       "    }\n",
       "\n",
       "    .dataframe tbody tr th {\n",
       "        vertical-align: top;\n",
       "    }\n",
       "\n",
       "    .dataframe thead th {\n",
       "        text-align: right;\n",
       "    }\n",
       "</style>\n",
       "<table border=\"1\" class=\"dataframe\">\n",
       "  <thead>\n",
       "    <tr style=\"text-align: right;\">\n",
       "      <th></th>\n",
       "      <th>importance</th>\n",
       "    </tr>\n",
       "  </thead>\n",
       "  <tbody>\n",
       "    <tr>\n",
       "      <th>LargestPropertyUseTypeGFA</th>\n",
       "      <td>0.18</td>\n",
       "    </tr>\n",
       "    <tr>\n",
       "      <th>PropertyGFABuilding(s)</th>\n",
       "      <td>0.17</td>\n",
       "    </tr>\n",
       "    <tr>\n",
       "      <th>NaturalGas(kBtu)_binary</th>\n",
       "      <td>0.16</td>\n",
       "    </tr>\n",
       "    <tr>\n",
       "      <th>SecondLargestPropertyUseTypeGFA</th>\n",
       "      <td>0.07</td>\n",
       "    </tr>\n",
       "    <tr>\n",
       "      <th>NumberofFloors</th>\n",
       "      <td>0.07</td>\n",
       "    </tr>\n",
       "  </tbody>\n",
       "</table>\n",
       "</div>"
      ],
      "text/plain": [
       "                                 importance\n",
       "LargestPropertyUseTypeGFA              0.18\n",
       "PropertyGFABuilding(s)                 0.17\n",
       "NaturalGas(kBtu)_binary                0.16\n",
       "SecondLargestPropertyUseTypeGFA        0.07\n",
       "NumberofFloors                         0.07"
      ]
     },
     "execution_count": 78,
     "metadata": {},
     "output_type": "execute_result"
    }
   ],
   "source": [
    "pd.set_option(\"display.max_rows\", None, \"display.max_columns\", None)\n",
    "feature_importances_forest.head()"
   ]
  },
  {
   "cell_type": "code",
   "execution_count": 79,
   "id": "6cf0667e",
   "metadata": {},
   "outputs": [
    {
     "data": {
      "text/html": [
       "<div>\n",
       "<style scoped>\n",
       "    .dataframe tbody tr th:only-of-type {\n",
       "        vertical-align: middle;\n",
       "    }\n",
       "\n",
       "    .dataframe tbody tr th {\n",
       "        vertical-align: top;\n",
       "    }\n",
       "\n",
       "    .dataframe thead th {\n",
       "        text-align: right;\n",
       "    }\n",
       "</style>\n",
       "<table border=\"1\" class=\"dataframe\">\n",
       "  <thead>\n",
       "    <tr style=\"text-align: right;\">\n",
       "      <th></th>\n",
       "      <th>importance</th>\n",
       "    </tr>\n",
       "  </thead>\n",
       "  <tbody>\n",
       "    <tr>\n",
       "      <th>LargestPropertyUseTypeGFA</th>\n",
       "      <td>0.19</td>\n",
       "    </tr>\n",
       "    <tr>\n",
       "      <th>NaturalGas(kBtu)_binary</th>\n",
       "      <td>0.18</td>\n",
       "    </tr>\n",
       "    <tr>\n",
       "      <th>PropertyGFABuilding(s)</th>\n",
       "      <td>0.17</td>\n",
       "    </tr>\n",
       "    <tr>\n",
       "      <th>NumberofFloors</th>\n",
       "      <td>0.10</td>\n",
       "    </tr>\n",
       "    <tr>\n",
       "      <th>SecondLargestPropertyUseTypeGFA</th>\n",
       "      <td>0.08</td>\n",
       "    </tr>\n",
       "  </tbody>\n",
       "</table>\n",
       "</div>"
      ],
      "text/plain": [
       "                                 importance\n",
       "LargestPropertyUseTypeGFA              0.19\n",
       "NaturalGas(kBtu)_binary                0.18\n",
       "PropertyGFABuilding(s)                 0.17\n",
       "NumberofFloors                         0.10\n",
       "SecondLargestPropertyUseTypeGFA        0.08"
      ]
     },
     "execution_count": 79,
     "metadata": {},
     "output_type": "execute_result"
    }
   ],
   "source": [
    "pd.set_option(\"display.max_rows\", None, \"display.max_columns\", None)\n",
    "feature_importances_gradient.head()"
   ]
  },
  {
   "cell_type": "markdown",
   "id": "277b4dce",
   "metadata": {},
   "source": [
    "# Prédiction des émissions de CO2 avec ENERGYSTARScore"
   ]
  },
  {
   "cell_type": "code",
   "execution_count": 80,
   "id": "5933b020",
   "metadata": {},
   "outputs": [
    {
     "name": "stdout",
     "output_type": "stream",
     "text": [
      "MAE:  0.99894\n",
      "MSE:  1.63439\n",
      "RMSE:  1.2784327431976918\n",
      "RMPSE:  0.084\n",
      "MAPE:  0.0666\n",
      "R²:  -0.00342\n"
     ]
    }
   ],
   "source": [
    "df = pd.read_csv(\"projet3.csv\", sep=',')\n",
    "\n",
    "X = df.drop(['TotalGHGEmissions_log','TotalGHGEmissions','SiteEnergyUse(kBtu)_log','SiteEnergyUse(kBtu)'], axis=1)\n",
    "y = df['SiteEnergyUse(kBtu)_log']\n",
    "\n",
    "\n",
    "X_train, X_test, y_train, y_test = train_test_split(X, y, test_size = 0.3, random_state = 0)\n",
    "\n",
    "encoder = ce.OneHotEncoder(cols=['PrimaryPropertyType',\n",
    " 'LargestPropertyUseType',\n",
    " 'SecondLargestPropertyUseType',\n",
    " 'ThirdLargestPropertyUseType'])\n",
    "\n",
    "X_train = encoder.fit_transform(X_train)\n",
    "\n",
    "X_test = encoder.transform(X_test)\n",
    "\n",
    "cols = X_train.columns\n",
    "\n",
    "scaler = RobustScaler()\n",
    "\n",
    "X_train = scaler.fit_transform(X_train)\n",
    "\n",
    "X_test = scaler.transform(X_test)\n",
    "\n",
    "X_train = pd.DataFrame(X_train, columns=[cols])\n",
    "X_test = pd.DataFrame(X_test, columns=[cols])\n",
    "\n",
    "dummy_reg = DummyRegressor(strategy=\"median\")\n",
    "dummy_reg.fit(X_train, y_train)\n",
    "y_pred = dummy_reg.predict(X_test)\n",
    "regression_metrics(np.array(y_test), y_pred)"
   ]
  },
  {
   "cell_type": "code",
   "execution_count": 81,
   "id": "ae2c2d1f",
   "metadata": {},
   "outputs": [],
   "source": [
    "dummy_reg = DummyRegressor(strategy=\"median\")\n",
    "lin_reg = LinearRegression()\n",
    "gdboost = GradientBoostingRegressor(random_state=10)\n",
    "rdmforest = RandomForestRegressor(random_state=10)"
   ]
  },
  {
   "cell_type": "code",
   "execution_count": 82,
   "id": "18124814",
   "metadata": {},
   "outputs": [
    {
     "data": {
      "text/html": [
       "<div>\n",
       "<style scoped>\n",
       "    .dataframe tbody tr th:only-of-type {\n",
       "        vertical-align: middle;\n",
       "    }\n",
       "\n",
       "    .dataframe tbody tr th {\n",
       "        vertical-align: top;\n",
       "    }\n",
       "\n",
       "    .dataframe thead th {\n",
       "        text-align: right;\n",
       "    }\n",
       "</style>\n",
       "<table border=\"1\" class=\"dataframe\">\n",
       "  <thead>\n",
       "    <tr style=\"text-align: right;\">\n",
       "      <th></th>\n",
       "      <th>Dummy Regressor</th>\n",
       "      <th>Linear Regression</th>\n",
       "      <th>GradientBoosting</th>\n",
       "      <th>Random Forest</th>\n",
       "    </tr>\n",
       "  </thead>\n",
       "  <tbody>\n",
       "    <tr>\n",
       "      <th>MAE</th>\n",
       "      <td>1.00</td>\n",
       "      <td>0.53</td>\n",
       "      <td>0.35</td>\n",
       "      <td>0.38</td>\n",
       "    </tr>\n",
       "    <tr>\n",
       "      <th>MSE</th>\n",
       "      <td>1.63</td>\n",
       "      <td>0.52</td>\n",
       "      <td>0.26</td>\n",
       "      <td>0.30</td>\n",
       "    </tr>\n",
       "    <tr>\n",
       "      <th>RMSE</th>\n",
       "      <td>1.28</td>\n",
       "      <td>0.72</td>\n",
       "      <td>0.51</td>\n",
       "      <td>0.55</td>\n",
       "    </tr>\n",
       "    <tr>\n",
       "      <th>R²</th>\n",
       "      <td>-0.00</td>\n",
       "      <td>0.68</td>\n",
       "      <td>0.84</td>\n",
       "      <td>0.81</td>\n",
       "    </tr>\n",
       "  </tbody>\n",
       "</table>\n",
       "</div>"
      ],
      "text/plain": [
       "      Dummy Regressor  Linear Regression  GradientBoosting  Random Forest\n",
       "MAE              1.00               0.53              0.35           0.38\n",
       "MSE              1.63               0.52              0.26           0.30\n",
       "RMSE             1.28               0.72              0.51           0.55\n",
       "R²              -0.00               0.68              0.84           0.81"
      ]
     },
     "execution_count": 82,
     "metadata": {},
     "output_type": "execute_result"
    }
   ],
   "source": [
    "model = [dummy_reg, lin_reg, gdboost, rdmforest]\n",
    "dict_model = {}\n",
    "\n",
    "for model in model:\n",
    "    model.fit(X_train, y_train)\n",
    "    y_pred = model.predict(X_test)\n",
    "    mae = mean_absolute_error(y_test, y_pred)\n",
    "    mse = mean_squared_error(y_test, y_pred)\n",
    "    rmse = np.sqrt(mse)\n",
    "    r_score = r2_score(y_test, y_pred, multioutput=\"variance_weighted\").round(3)\n",
    "    dict_model[model] = (mae.round(3), mse.round(3), rmse.round(3), r_score)\n",
    "\n",
    "eval_model = pd.DataFrame(dict_model, index=[\"MAE\", \"MSE\", \"RMSE\", \"R²\"])\n",
    "eval_model.columns = [\"Dummy Regressor\", \"Linear Regression\", \"GradientBoosting\", \"Random Forest\"]\n",
    "\n",
    "eval_model"
   ]
  },
  {
   "cell_type": "code",
   "execution_count": 83,
   "id": "1d571c5f",
   "metadata": {},
   "outputs": [],
   "source": [
    "# instanciation du modèle avec paramètre de base \n",
    "linear_reg = LinearRegression(n_jobs=-1)"
   ]
  },
  {
   "cell_type": "code",
   "execution_count": 84,
   "id": "ebf1545b",
   "metadata": {},
   "outputs": [
    {
     "data": {
      "text/plain": [
       "RandomizedSearchCV(cv=5, estimator=LinearRegression(n_jobs=-1),\n",
       "                   param_distributions={}, random_state=10,\n",
       "                   scoring='neg_mean_squared_error')"
      ]
     },
     "execution_count": 84,
     "metadata": {},
     "output_type": "execute_result"
    }
   ],
   "source": [
    "param_distribs = {}\n",
    "\n",
    "rnd_search = RandomizedSearchCV(linear_reg, param_distributions=param_distribs,\n",
    "                                n_iter=10, cv=5, scoring='neg_mean_squared_error', random_state=10)\n",
    "rnd_search.fit(X_train, y_train)"
   ]
  },
  {
   "cell_type": "code",
   "execution_count": 85,
   "id": "3768a0f9",
   "metadata": {},
   "outputs": [
    {
     "name": "stdout",
     "output_type": "stream",
     "text": [
      "MAE:  0.52801\n",
      "MSE:  0.52353\n",
      "RMSE:  0.7235553283409728\n",
      "RMPSE:  0.049\n",
      "MAPE:  0.03556\n",
      "R²:  0.67858\n"
     ]
    }
   ],
   "source": [
    "final_model_energy_linear = rnd_search.best_estimator_\n",
    "final_predictions_energy = final_model_energy_linear.predict(X_test)\n",
    "regression_metrics(np.array(y_test), final_predictions_energy)"
   ]
  },
  {
   "cell_type": "code",
   "execution_count": 86,
   "id": "e8137fd6",
   "metadata": {},
   "outputs": [
    {
     "data": {
      "image/png": "[encoded data removed]",
      "text/plain": [
       "<Figure size 432x288 with 1 Axes>"
      ]
     },
     "metadata": {
      "needs_background": "light"
     },
     "output_type": "display_data"
    }
   ],
   "source": [
    "visualizer = prediction_error(final_model_energy_linear, np.array(X_train), np.array(y_train), np.array(X_test), np.array(y_test));\n"
   ]
  },
  {
   "cell_type": "code",
   "execution_count": 87,
   "id": "b7cb2d89",
   "metadata": {},
   "outputs": [
    {
     "data": {
      "text/plain": [
       "RandomizedSearchCV(cv=5, estimator=GradientBoostingRegressor(),\n",
       "                   param_distributions={'max_depth': [5, 15, 26, 36, 47, 57, 68,\n",
       "                                                      78, 89, 99, 110],\n",
       "                                        'max_features': ['auto', 'sqrt'],\n",
       "                                        'min_samples_leaf': <scipy.stats._distn_infrastructure.rv_frozen object at 0x000002906C7BC9A0>,\n",
       "                                        'min_samples_split': <scipy.stats._distn_infrastructure.rv_frozen object at 0x000002906D7C4A90>,\n",
       "                                        'n_estimators': [200, 288, 377, 466,\n",
       "                                                         555, 644, 733, 822,\n",
       "                                                         911, 1000]},\n",
       "                   random_state=10, scoring='neg_mean_squared_error')"
      ]
     },
     "execution_count": 87,
     "metadata": {},
     "output_type": "execute_result"
    }
   ],
   "source": [
    "gdboost = GradientBoostingRegressor()\n",
    "param_distribs = {\n",
    "        \"n_estimators\" : [int(x) for x in np.linspace(start=200, stop=1000, num=10)],\n",
    "        \"max_features\" : [\"auto\", \"sqrt\"],\n",
    "        \"max_depth\": [int(x) for x in np.linspace(start=5, stop=110, num=11)],\n",
    "        \"min_samples_split\" : randint(low=2, high=10),\n",
    "        \"min_samples_leaf\" : randint(low=2, high=10)\n",
    "    }\n",
    "rnd_search = RandomizedSearchCV(gdboost, param_distributions=param_distribs,\n",
    "                                n_iter=10, cv=5, scoring='neg_mean_squared_error', random_state=10)\n",
    "rnd_search.fit(X_train, y_train)"
   ]
  },
  {
   "cell_type": "code",
   "execution_count": 88,
   "id": "0ee79da9",
   "metadata": {},
   "outputs": [
    {
     "name": "stdout",
     "output_type": "stream",
     "text": [
      "MAE:  0.34547\n",
      "MSE:  0.25852\n",
      "RMSE:  0.5084506412918829\n",
      "RMPSE:  0.035\n",
      "MAPE:  0.02343\n",
      "R²:  0.84128\n"
     ]
    }
   ],
   "source": [
    "final_model_energy_gdboost = rnd_search.best_estimator_\n",
    "final_predictions_energy = final_model_energy_gdboost.predict(X_test)\n",
    "regression_metrics(np.array(y_test), final_predictions_energy)"
   ]
  },
  {
   "cell_type": "code",
   "execution_count": 89,
   "id": "1f2dfe6b",
   "metadata": {},
   "outputs": [
    {
     "data": {
      "image/png": "[encoded data removed]",
      "text/plain": [
       "<Figure size 432x288 with 1 Axes>"
      ]
     },
     "metadata": {
      "needs_background": "light"
     },
     "output_type": "display_data"
    }
   ],
   "source": [
    "visualizer = prediction_error(final_model_energy_gdboost, np.array(X_train), np.array(y_train), np.array(X_test), np.array(y_test));\n"
   ]
  },
  {
   "cell_type": "code",
   "execution_count": 90,
   "id": "b5715ef7",
   "metadata": {},
   "outputs": [],
   "source": [
    "regressor = RandomForestRegressor(n_estimators = 100, random_state = 0)\n",
    "\n",
    "# fit the regressor with x and y data\n",
    "regressor.fit(X_train, y_train)\n",
    "\n",
    "# Predict the Test set results\n",
    "y_pred = regressor.predict(X_test)\n"
   ]
  },
  {
   "cell_type": "code",
   "execution_count": 91,
   "id": "ebd7b2ee",
   "metadata": {},
   "outputs": [],
   "source": [
    "# instanciation du modèle avec paramètre de base \n",
    "forest_reg = RandomForestRegressor(random_state=10, n_jobs=-1)"
   ]
  },
  {
   "cell_type": "code",
   "execution_count": 92,
   "id": "5170e025",
   "metadata": {},
   "outputs": [
    {
     "data": {
      "text/plain": [
       "RandomizedSearchCV(cv=5, estimator=RandomForestRegressor(random_state=0),\n",
       "                   param_distributions={'bootstrap': [True, False],\n",
       "                                        'max_depth': [5, 15, 26, 36, 47, 57, 68,\n",
       "                                                      78, 89, 99, 110],\n",
       "                                        'max_features': ['auto', 'sqrt'],\n",
       "                                        'min_samples_leaf': <scipy.stats._distn_infrastructure.rv_frozen object at 0x000002906C7BCB50>,\n",
       "                                        'min_samples_split': <scipy.stats._distn_infrastructure.rv_frozen object at 0x000002906F9D7D90>,\n",
       "                                        'n_estimators': [200, 288, 377, 466,\n",
       "                                                         555, 644, 733, 822,\n",
       "                                                         911, 1000]},\n",
       "                   random_state=10, scoring='neg_mean_squared_error')"
      ]
     },
     "execution_count": 92,
     "metadata": {},
     "output_type": "execute_result"
    }
   ],
   "source": [
    "param_distribs = {\n",
    "        \"n_estimators\" : [int(x) for x in np.linspace(start=200, stop=1000, num=10)],\n",
    "        \"max_features\" : [\"auto\", \"sqrt\"],\n",
    "        \"max_depth\": [int(x) for x in np.linspace(start=5, stop=110, num=11)],\n",
    "        \"min_samples_split\" : randint(low=2, high=10),\n",
    "        \"min_samples_leaf\" : randint(low=2, high=10),\n",
    "        \"bootstrap\" : [True, False]\n",
    "    }\n",
    "\n",
    "rnd_search = RandomizedSearchCV(regressor, param_distributions=param_distribs,\n",
    "                                n_iter=10, cv=5, scoring='neg_mean_squared_error', random_state=10)\n",
    "rnd_search.fit(X_train, y_train)"
   ]
  },
  {
   "cell_type": "code",
   "execution_count": 93,
   "id": "4610d54f",
   "metadata": {},
   "outputs": [
    {
     "name": "stdout",
     "output_type": "stream",
     "text": [
      "MAE:  0.39643\n",
      "MSE:  0.32232\n",
      "RMSE:  0.5677284138757362\n",
      "RMPSE:  0.04\n",
      "MAPE:  0.02707\n",
      "R²:  0.80212\n"
     ]
    }
   ],
   "source": [
    "final_model_energy_forest = rnd_search.best_estimator_\n",
    "final_predictions_energy = final_model_energy_forest.predict(X_test)\n",
    "regression_metrics(np.array(y_test), final_predictions_energy)"
   ]
  },
  {
   "cell_type": "code",
   "execution_count": 94,
   "id": "1304d7e6",
   "metadata": {},
   "outputs": [
    {
     "data": {
      "image/png": "[encoded data removed]",
      "text/plain": [
       "<Figure size 432x288 with 1 Axes>"
      ]
     },
     "metadata": {
      "needs_background": "light"
     },
     "output_type": "display_data"
    }
   ],
   "source": [
    "visualizer = prediction_error(final_model_energy_forest, np.array(X_train), np.array(y_train), np.array(X_test), np.array(y_test));\n"
   ]
  },
  {
   "cell_type": "code",
   "execution_count": 95,
   "id": "c44ee80f",
   "metadata": {},
   "outputs": [],
   "source": [
    "feature_importances_forest = pd.DataFrame(final_model_energy_forest.feature_importances_,\n",
    "                                   index = X_train.columns,\n",
    "                                    columns=['importance']).sort_values('importance',ascending=False)\n",
    "\n",
    "feature_importances_gradient = pd.DataFrame(final_model_energy_gdboost.feature_importances_,\n",
    "                                   index = X_train.columns,\n",
    "                                    columns=['importance']).sort_values('importance',ascending=False)"
   ]
  },
  {
   "cell_type": "code",
   "execution_count": 96,
   "id": "1da58ae6",
   "metadata": {},
   "outputs": [
    {
     "data": {
      "text/html": [
       "<div>\n",
       "<style scoped>\n",
       "    .dataframe tbody tr th:only-of-type {\n",
       "        vertical-align: middle;\n",
       "    }\n",
       "\n",
       "    .dataframe tbody tr th {\n",
       "        vertical-align: top;\n",
       "    }\n",
       "\n",
       "    .dataframe thead th {\n",
       "        text-align: right;\n",
       "    }\n",
       "</style>\n",
       "<table border=\"1\" class=\"dataframe\">\n",
       "  <thead>\n",
       "    <tr style=\"text-align: right;\">\n",
       "      <th></th>\n",
       "      <th>importance</th>\n",
       "    </tr>\n",
       "  </thead>\n",
       "  <tbody>\n",
       "    <tr>\n",
       "      <th>PropertyGFABuilding(s)</th>\n",
       "      <td>0.42</td>\n",
       "    </tr>\n",
       "    <tr>\n",
       "      <th>LargestPropertyUseTypeGFA</th>\n",
       "      <td>0.30</td>\n",
       "    </tr>\n",
       "    <tr>\n",
       "      <th>ENERGYSTARScore</th>\n",
       "      <td>0.12</td>\n",
       "    </tr>\n",
       "    <tr>\n",
       "      <th>PrimaryPropertyType_2</th>\n",
       "      <td>0.03</td>\n",
       "    </tr>\n",
       "    <tr>\n",
       "      <th>LargestPropertyUseType_2</th>\n",
       "      <td>0.02</td>\n",
       "    </tr>\n",
       "  </tbody>\n",
       "</table>\n",
       "</div>"
      ],
      "text/plain": [
       "                           importance\n",
       "PropertyGFABuilding(s)           0.42\n",
       "LargestPropertyUseTypeGFA        0.30\n",
       "ENERGYSTARScore                  0.12\n",
       "PrimaryPropertyType_2            0.03\n",
       "LargestPropertyUseType_2         0.02"
      ]
     },
     "execution_count": 96,
     "metadata": {},
     "output_type": "execute_result"
    }
   ],
   "source": [
    "pd.set_option(\"display.max_rows\", None, \"display.max_columns\", None)\n",
    "feature_importances_forest.head()"
   ]
  },
  {
   "cell_type": "code",
   "execution_count": 97,
   "id": "d5d67d79",
   "metadata": {},
   "outputs": [
    {
     "data": {
      "text/html": [
       "<div>\n",
       "<style scoped>\n",
       "    .dataframe tbody tr th:only-of-type {\n",
       "        vertical-align: middle;\n",
       "    }\n",
       "\n",
       "    .dataframe tbody tr th {\n",
       "        vertical-align: top;\n",
       "    }\n",
       "\n",
       "    .dataframe thead th {\n",
       "        text-align: right;\n",
       "    }\n",
       "</style>\n",
       "<table border=\"1\" class=\"dataframe\">\n",
       "  <thead>\n",
       "    <tr style=\"text-align: right;\">\n",
       "      <th></th>\n",
       "      <th>importance</th>\n",
       "    </tr>\n",
       "  </thead>\n",
       "  <tbody>\n",
       "    <tr>\n",
       "      <th>PropertyGFABuilding(s)</th>\n",
       "      <td>0.21</td>\n",
       "    </tr>\n",
       "    <tr>\n",
       "      <th>LargestPropertyUseTypeGFA</th>\n",
       "      <td>0.19</td>\n",
       "    </tr>\n",
       "    <tr>\n",
       "      <th>ENERGYSTARScore</th>\n",
       "      <td>0.10</td>\n",
       "    </tr>\n",
       "    <tr>\n",
       "      <th>ThirdLargestPropertyUseTypeGFA</th>\n",
       "      <td>0.07</td>\n",
       "    </tr>\n",
       "    <tr>\n",
       "      <th>SecondLargestPropertyUseTypeGFA</th>\n",
       "      <td>0.06</td>\n",
       "    </tr>\n",
       "  </tbody>\n",
       "</table>\n",
       "</div>"
      ],
      "text/plain": [
       "                                 importance\n",
       "PropertyGFABuilding(s)                 0.21\n",
       "LargestPropertyUseTypeGFA              0.19\n",
       "ENERGYSTARScore                        0.10\n",
       "ThirdLargestPropertyUseTypeGFA         0.07\n",
       "SecondLargestPropertyUseTypeGFA        0.06"
      ]
     },
     "execution_count": 97,
     "metadata": {},
     "output_type": "execute_result"
    }
   ],
   "source": [
    "pd.set_option(\"display.max_rows\", None, \"display.max_columns\", None)\n",
    "feature_importances_gradient.head()"
   ]
  },
  {
   "cell_type": "markdown",
   "id": "35c641be",
   "metadata": {},
   "source": [
    "# Prédiction des émissions de CO2 sans ENERGYSTARScore"
   ]
  },
  {
   "cell_type": "code",
   "execution_count": 98,
   "id": "8639127e",
   "metadata": {},
   "outputs": [
    {
     "name": "stdout",
     "output_type": "stream",
     "text": [
      "MAE:  0.99894\n",
      "MSE:  1.63439\n",
      "RMSE:  1.2784327431976918\n",
      "RMPSE:  0.084\n",
      "MAPE:  0.0666\n",
      "R²:  -0.00342\n"
     ]
    }
   ],
   "source": [
    "df = pd.read_csv(\"projet3.csv\", sep=',')\n",
    "\n",
    "X = df.drop(['TotalGHGEmissions_log','TotalGHGEmissions','SiteEnergyUse(kBtu)_log','SiteEnergyUse(kBtu)','ENERGYSTARScore'], axis=1)\n",
    "y = df['SiteEnergyUse(kBtu)_log']\n",
    "\n",
    "\n",
    "X_train, X_test, y_train, y_test = train_test_split(X, y, test_size = 0.3, random_state = 0)\n",
    "\n",
    "encoder = ce.OneHotEncoder(cols=['PrimaryPropertyType',\n",
    " 'LargestPropertyUseType',\n",
    " 'SecondLargestPropertyUseType',\n",
    " 'ThirdLargestPropertyUseType'])\n",
    "\n",
    "X_train = encoder.fit_transform(X_train)\n",
    "\n",
    "X_test = encoder.transform(X_test)\n",
    "\n",
    "cols = X_train.columns\n",
    "\n",
    "scaler = RobustScaler()\n",
    "\n",
    "X_train = scaler.fit_transform(X_train)\n",
    "\n",
    "X_test = scaler.transform(X_test)\n",
    "\n",
    "X_train = pd.DataFrame(X_train, columns=[cols])\n",
    "X_test = pd.DataFrame(X_test, columns=[cols])\n",
    "\n",
    "dummy_reg = DummyRegressor(strategy=\"median\")\n",
    "dummy_reg.fit(X_train, y_train)\n",
    "y_pred = dummy_reg.predict(X_test)\n",
    "regression_metrics(np.array(y_test), y_pred)"
   ]
  },
  {
   "cell_type": "code",
   "execution_count": 99,
   "id": "db4670f9",
   "metadata": {},
   "outputs": [],
   "source": [
    "dummy_reg = DummyRegressor(strategy=\"median\")\n",
    "lin_reg = LinearRegression()\n",
    "gdboost = GradientBoostingRegressor(random_state=10)\n",
    "rdmforest = RandomForestRegressor(random_state=10)"
   ]
  },
  {
   "cell_type": "code",
   "execution_count": 100,
   "id": "5b096c19",
   "metadata": {},
   "outputs": [
    {
     "data": {
      "text/html": [
       "<div>\n",
       "<style scoped>\n",
       "    .dataframe tbody tr th:only-of-type {\n",
       "        vertical-align: middle;\n",
       "    }\n",
       "\n",
       "    .dataframe tbody tr th {\n",
       "        vertical-align: top;\n",
       "    }\n",
       "\n",
       "    .dataframe thead th {\n",
       "        text-align: right;\n",
       "    }\n",
       "</style>\n",
       "<table border=\"1\" class=\"dataframe\">\n",
       "  <thead>\n",
       "    <tr style=\"text-align: right;\">\n",
       "      <th></th>\n",
       "      <th>Dummy Regressor</th>\n",
       "      <th>Linear Regression</th>\n",
       "      <th>GradientBoosting</th>\n",
       "      <th>Random Forest</th>\n",
       "    </tr>\n",
       "  </thead>\n",
       "  <tbody>\n",
       "    <tr>\n",
       "      <th>MAE</th>\n",
       "      <td>1.00</td>\n",
       "      <td>0.58</td>\n",
       "      <td>0.45</td>\n",
       "      <td>0.46</td>\n",
       "    </tr>\n",
       "    <tr>\n",
       "      <th>MSE</th>\n",
       "      <td>1.63</td>\n",
       "      <td>0.62</td>\n",
       "      <td>0.38</td>\n",
       "      <td>0.44</td>\n",
       "    </tr>\n",
       "    <tr>\n",
       "      <th>RMSE</th>\n",
       "      <td>1.28</td>\n",
       "      <td>0.79</td>\n",
       "      <td>0.62</td>\n",
       "      <td>0.66</td>\n",
       "    </tr>\n",
       "    <tr>\n",
       "      <th>R²</th>\n",
       "      <td>-0.00</td>\n",
       "      <td>0.62</td>\n",
       "      <td>0.76</td>\n",
       "      <td>0.73</td>\n",
       "    </tr>\n",
       "  </tbody>\n",
       "</table>\n",
       "</div>"
      ],
      "text/plain": [
       "      Dummy Regressor  Linear Regression  GradientBoosting  Random Forest\n",
       "MAE              1.00               0.58              0.45           0.46\n",
       "MSE              1.63               0.62              0.38           0.44\n",
       "RMSE             1.28               0.79              0.62           0.66\n",
       "R²              -0.00               0.62              0.76           0.73"
      ]
     },
     "execution_count": 100,
     "metadata": {},
     "output_type": "execute_result"
    }
   ],
   "source": [
    "model = [dummy_reg, lin_reg, gdboost, rdmforest]\n",
    "dict_model = {}\n",
    "\n",
    "for model in model:\n",
    "    model.fit(X_train, y_train)\n",
    "    y_pred = model.predict(X_test)\n",
    "    mae = mean_absolute_error(y_test, y_pred)\n",
    "    mse = mean_squared_error(y_test, y_pred)\n",
    "    rmse = np.sqrt(mse)\n",
    "    r_score = r2_score(y_test, y_pred, multioutput=\"variance_weighted\").round(3)\n",
    "    dict_model[model] = (mae.round(3), mse.round(3), rmse.round(3), r_score)\n",
    "\n",
    "eval_model = pd.DataFrame(dict_model, index=[\"MAE\", \"MSE\", \"RMSE\", \"R²\"])\n",
    "eval_model.columns = [\"Dummy Regressor\", \"Linear Regression\", \"GradientBoosting\", \"Random Forest\"]\n",
    "\n",
    "eval_model"
   ]
  },
  {
   "cell_type": "code",
   "execution_count": 101,
   "id": "f935a136",
   "metadata": {},
   "outputs": [],
   "source": [
    "# instanciation du modèle avec paramètre de base \n",
    "linear_reg = LinearRegression(n_jobs=-1)"
   ]
  },
  {
   "cell_type": "code",
   "execution_count": 102,
   "id": "ea93a528",
   "metadata": {},
   "outputs": [
    {
     "data": {
      "text/plain": [
       "RandomizedSearchCV(cv=5, estimator=LinearRegression(n_jobs=-1),\n",
       "                   param_distributions={}, random_state=10,\n",
       "                   scoring='neg_mean_squared_error')"
      ]
     },
     "execution_count": 102,
     "metadata": {},
     "output_type": "execute_result"
    }
   ],
   "source": [
    "param_distribs = {}\n",
    "\n",
    "rnd_search = RandomizedSearchCV(linear_reg, param_distributions=param_distribs,\n",
    "                                n_iter=10, cv=5, scoring='neg_mean_squared_error', random_state=10)\n",
    "rnd_search.fit(X_train, y_train)"
   ]
  },
  {
   "cell_type": "code",
   "execution_count": 103,
   "id": "1e0e72e0",
   "metadata": {},
   "outputs": [
    {
     "name": "stdout",
     "output_type": "stream",
     "text": [
      "MAE:  0.57884\n",
      "MSE:  0.619\n",
      "RMSE:  0.7867626708328386\n",
      "RMPSE:  0.054\n",
      "MAPE:  0.03921\n",
      "R²:  0.61997\n"
     ]
    }
   ],
   "source": [
    "final_model_energy_linear = rnd_search.best_estimator_\n",
    "final_predictions_energy = final_model_energy_linear.predict(X_test)\n",
    "regression_metrics(np.array(y_test), final_predictions_energy)"
   ]
  },
  {
   "cell_type": "code",
   "execution_count": 104,
   "id": "b093535d",
   "metadata": {},
   "outputs": [
    {
     "data": {
      "image/png": "[encoded data removed]",
      "text/plain": [
       "<Figure size 432x288 with 1 Axes>"
      ]
     },
     "metadata": {
      "needs_background": "light"
     },
     "output_type": "display_data"
    }
   ],
   "source": [
    "visualizer = prediction_error(final_model_energy_linear, np.array(X_train), np.array(y_train), np.array(X_test), np.array(y_test));\n"
   ]
  },
  {
   "cell_type": "code",
   "execution_count": 105,
   "id": "309e20bc",
   "metadata": {},
   "outputs": [
    {
     "data": {
      "text/plain": [
       "RandomizedSearchCV(cv=5, estimator=GradientBoostingRegressor(),\n",
       "                   param_distributions={'max_depth': [5, 15, 26, 36, 47, 57, 68,\n",
       "                                                      78, 89, 99, 110],\n",
       "                                        'max_features': ['auto', 'sqrt'],\n",
       "                                        'min_samples_leaf': <scipy.stats._distn_infrastructure.rv_frozen object at 0x000002906F9A9490>,\n",
       "                                        'min_samples_split': <scipy.stats._distn_infrastructure.rv_frozen object at 0x000002906D8D4C40>,\n",
       "                                        'n_estimators': [200, 288, 377, 466,\n",
       "                                                         555, 644, 733, 822,\n",
       "                                                         911, 1000]},\n",
       "                   random_state=10, scoring='neg_mean_squared_error')"
      ]
     },
     "execution_count": 105,
     "metadata": {},
     "output_type": "execute_result"
    }
   ],
   "source": [
    "gdboost = GradientBoostingRegressor()\n",
    "param_distribs = {\n",
    "        \"n_estimators\" : [int(x) for x in np.linspace(start=200, stop=1000, num=10)],\n",
    "        \"max_features\" : [\"auto\", \"sqrt\"],\n",
    "        \"max_depth\": [int(x) for x in np.linspace(start=5, stop=110, num=11)],\n",
    "        \"min_samples_split\" : randint(low=2, high=10),\n",
    "        \"min_samples_leaf\" : randint(low=2, high=10)\n",
    "    }\n",
    "rnd_search = RandomizedSearchCV(gdboost, param_distributions=param_distribs,\n",
    "                                n_iter=10, cv=5, scoring='neg_mean_squared_error', random_state=10)\n",
    "rnd_search.fit(X_train, y_train)"
   ]
  },
  {
   "cell_type": "code",
   "execution_count": 106,
   "id": "97f15a67",
   "metadata": {},
   "outputs": [
    {
     "name": "stdout",
     "output_type": "stream",
     "text": [
      "MAE:  0.4565\n",
      "MSE:  0.41535\n",
      "RMSE:  0.6444766269827791\n",
      "RMPSE:  0.044\n",
      "MAPE:  0.03096\n",
      "R²:  0.745\n"
     ]
    }
   ],
   "source": [
    "final_model_energy_gdboost = rnd_search.best_estimator_\n",
    "final_predictions_energy = final_model_energy_gdboost.predict(X_test)\n",
    "regression_metrics(np.array(y_test), final_predictions_energy)"
   ]
  },
  {
   "cell_type": "code",
   "execution_count": 107,
   "id": "590cd4ec",
   "metadata": {},
   "outputs": [
    {
     "data": {
      "image/png": "[encoded data removed]",
      "text/plain": [
       "<Figure size 432x288 with 1 Axes>"
      ]
     },
     "metadata": {
      "needs_background": "light"
     },
     "output_type": "display_data"
    }
   ],
   "source": [
    "visualizer = prediction_error(final_model_energy_gdboost, np.array(X_train), np.array(y_train), np.array(X_test), np.array(y_test));\n"
   ]
  },
  {
   "cell_type": "code",
   "execution_count": 108,
   "id": "efcbde26",
   "metadata": {},
   "outputs": [],
   "source": [
    "regressor = RandomForestRegressor(n_estimators = 100, random_state = 0)\n",
    "\n",
    "# fit the regressor with x and y data\n",
    "regressor.fit(X_train, y_train)\n",
    "\n",
    "# Predict the Test set results\n",
    "y_pred = regressor.predict(X_test)\n"
   ]
  },
  {
   "cell_type": "code",
   "execution_count": 109,
   "id": "0e909a8d",
   "metadata": {},
   "outputs": [],
   "source": [
    "# instanciation du modèle avec paramètre de base \n",
    "forest_reg = RandomForestRegressor(random_state=10, n_jobs=-1)"
   ]
  },
  {
   "cell_type": "code",
   "execution_count": 110,
   "id": "219df844",
   "metadata": {},
   "outputs": [
    {
     "data": {
      "text/plain": [
       "RandomizedSearchCV(cv=5, estimator=RandomForestRegressor(random_state=0),\n",
       "                   param_distributions={'bootstrap': [True, False],\n",
       "                                        'max_depth': [5, 15, 26, 36, 47, 57, 68,\n",
       "                                                      78, 89, 99, 110],\n",
       "                                        'max_features': ['auto', 'sqrt'],\n",
       "                                        'min_samples_leaf': <scipy.stats._distn_infrastructure.rv_frozen object at 0x000002906A170670>,\n",
       "                                        'min_samples_split': <scipy.stats._distn_infrastructure.rv_frozen object at 0x000002906A170DF0>,\n",
       "                                        'n_estimators': [200, 288, 377, 466,\n",
       "                                                         555, 644, 733, 822,\n",
       "                                                         911, 1000]},\n",
       "                   random_state=10, scoring='neg_mean_squared_error')"
      ]
     },
     "execution_count": 110,
     "metadata": {},
     "output_type": "execute_result"
    }
   ],
   "source": [
    "param_distribs = {\n",
    "        \"n_estimators\" : [int(x) for x in np.linspace(start=200, stop=1000, num=10)],\n",
    "        \"max_features\" : [\"auto\", \"sqrt\"],\n",
    "        \"max_depth\": [int(x) for x in np.linspace(start=5, stop=110, num=11)],\n",
    "        \"min_samples_split\" : randint(low=2, high=10),\n",
    "        \"min_samples_leaf\" : randint(low=2, high=10),\n",
    "        \"bootstrap\" : [True, False]\n",
    "    }\n",
    "\n",
    "rnd_search = RandomizedSearchCV(regressor, param_distributions=param_distribs,\n",
    "                                n_iter=10, cv=5, scoring='neg_mean_squared_error', random_state=10)\n",
    "rnd_search.fit(X_train, y_train)"
   ]
  },
  {
   "cell_type": "code",
   "execution_count": 111,
   "id": "6d20d7af",
   "metadata": {},
   "outputs": [
    {
     "name": "stdout",
     "output_type": "stream",
     "text": [
      "MAE:  0.44226\n",
      "MSE:  0.38773\n",
      "RMSE:  0.6226800071908627\n",
      "RMPSE:  0.043\n",
      "MAPE:  0.02999\n",
      "R²:  0.76196\n"
     ]
    }
   ],
   "source": [
    "final_model_energy_forest = rnd_search.best_estimator_\n",
    "final_predictions_energy = final_model_energy_forest.predict(X_test)\n",
    "regression_metrics(np.array(y_test), final_predictions_energy)"
   ]
  },
  {
   "cell_type": "code",
   "execution_count": 112,
   "id": "351e1c65",
   "metadata": {},
   "outputs": [
    {
     "data": {
      "image/png": "[encoded data removed]",
      "text/plain": [
       "<Figure size 432x288 with 1 Axes>"
      ]
     },
     "metadata": {
      "needs_background": "light"
     },
     "output_type": "display_data"
    }
   ],
   "source": [
    "visualizer = prediction_error(final_model_energy_forest, np.array(X_train), np.array(y_train), np.array(X_test), np.array(y_test));\n"
   ]
  },
  {
   "cell_type": "code",
   "execution_count": 113,
   "id": "54bc289f",
   "metadata": {},
   "outputs": [],
   "source": [
    "feature_importances_forest = pd.DataFrame(final_model_energy_forest.feature_importances_,\n",
    "                                   index = X_train.columns,\n",
    "                                    columns=['importance']).sort_values('importance',ascending=False)\n",
    "\n",
    "feature_importances_gradient = pd.DataFrame(final_model_energy_gdboost.feature_importances_,\n",
    "                                   index = X_train.columns,\n",
    "                                    columns=['importance']).sort_values('importance',ascending=False)"
   ]
  },
  {
   "cell_type": "code",
   "execution_count": 114,
   "id": "1c1ce469",
   "metadata": {},
   "outputs": [
    {
     "data": {
      "text/html": [
       "<div>\n",
       "<style scoped>\n",
       "    .dataframe tbody tr th:only-of-type {\n",
       "        vertical-align: middle;\n",
       "    }\n",
       "\n",
       "    .dataframe tbody tr th {\n",
       "        vertical-align: top;\n",
       "    }\n",
       "\n",
       "    .dataframe thead th {\n",
       "        text-align: right;\n",
       "    }\n",
       "</style>\n",
       "<table border=\"1\" class=\"dataframe\">\n",
       "  <thead>\n",
       "    <tr style=\"text-align: right;\">\n",
       "      <th></th>\n",
       "      <th>importance</th>\n",
       "    </tr>\n",
       "  </thead>\n",
       "  <tbody>\n",
       "    <tr>\n",
       "      <th>PropertyGFABuilding(s)</th>\n",
       "      <td>0.21</td>\n",
       "    </tr>\n",
       "    <tr>\n",
       "      <th>LargestPropertyUseTypeGFA</th>\n",
       "      <td>0.20</td>\n",
       "    </tr>\n",
       "    <tr>\n",
       "      <th>SecondLargestPropertyUseTypeGFA</th>\n",
       "      <td>0.10</td>\n",
       "    </tr>\n",
       "    <tr>\n",
       "      <th>NumberofFloors</th>\n",
       "      <td>0.09</td>\n",
       "    </tr>\n",
       "    <tr>\n",
       "      <th>PropertyGFAParking</th>\n",
       "      <td>0.04</td>\n",
       "    </tr>\n",
       "  </tbody>\n",
       "</table>\n",
       "</div>"
      ],
      "text/plain": [
       "                                 importance\n",
       "PropertyGFABuilding(s)                 0.21\n",
       "LargestPropertyUseTypeGFA              0.20\n",
       "SecondLargestPropertyUseTypeGFA        0.10\n",
       "NumberofFloors                         0.09\n",
       "PropertyGFAParking                     0.04"
      ]
     },
     "execution_count": 114,
     "metadata": {},
     "output_type": "execute_result"
    }
   ],
   "source": [
    "pd.set_option(\"display.max_rows\", None, \"display.max_columns\", None)\n",
    "feature_importances_forest.head()"
   ]
  },
  {
   "cell_type": "code",
   "execution_count": 115,
   "id": "6d120ffd",
   "metadata": {},
   "outputs": [
    {
     "data": {
      "text/html": [
       "<div>\n",
       "<style scoped>\n",
       "    .dataframe tbody tr th:only-of-type {\n",
       "        vertical-align: middle;\n",
       "    }\n",
       "\n",
       "    .dataframe tbody tr th {\n",
       "        vertical-align: top;\n",
       "    }\n",
       "\n",
       "    .dataframe thead th {\n",
       "        text-align: right;\n",
       "    }\n",
       "</style>\n",
       "<table border=\"1\" class=\"dataframe\">\n",
       "  <thead>\n",
       "    <tr style=\"text-align: right;\">\n",
       "      <th></th>\n",
       "      <th>importance</th>\n",
       "    </tr>\n",
       "  </thead>\n",
       "  <tbody>\n",
       "    <tr>\n",
       "      <th>LargestPropertyUseTypeGFA</th>\n",
       "      <td>0.31</td>\n",
       "    </tr>\n",
       "    <tr>\n",
       "      <th>PropertyGFABuilding(s)</th>\n",
       "      <td>0.16</td>\n",
       "    </tr>\n",
       "    <tr>\n",
       "      <th>SecondLargestPropertyUseTypeGFA</th>\n",
       "      <td>0.10</td>\n",
       "    </tr>\n",
       "    <tr>\n",
       "      <th>PrimaryPropertyType_6</th>\n",
       "      <td>0.05</td>\n",
       "    </tr>\n",
       "    <tr>\n",
       "      <th>PropertyGFAParking</th>\n",
       "      <td>0.04</td>\n",
       "    </tr>\n",
       "  </tbody>\n",
       "</table>\n",
       "</div>"
      ],
      "text/plain": [
       "                                 importance\n",
       "LargestPropertyUseTypeGFA              0.31\n",
       "PropertyGFABuilding(s)                 0.16\n",
       "SecondLargestPropertyUseTypeGFA        0.10\n",
       "PrimaryPropertyType_6                  0.05\n",
       "PropertyGFAParking                     0.04"
      ]
     },
     "execution_count": 115,
     "metadata": {},
     "output_type": "execute_result"
    }
   ],
   "source": [
    "pd.set_option(\"display.max_rows\", None, \"display.max_columns\", None)\n",
    "feature_importances_gradient.head()"
   ]
  },
  {
   "cell_type": "code",
   "execution_count": null,
   "id": "2067daac",
   "metadata": {},
   "outputs": [],
   "source": []
  }
 ],
 "metadata": {
  "kernelspec": {
   "display_name": "Projet3",
   "language": "python",
   "name": "projet3"
  },
  "language_info": {
   "codemirror_mode": {
    "name": "ipython",
    "version": 3
   },
   "file_extension": ".py",
   "mimetype": "text/x-python",
   "name": "python",
   "nbconvert_exporter": "python",
   "pygments_lexer": "ipython3",
   "version": "3.9.7"
  }
 },
 "nbformat": 4,
 "nbformat_minor": 5
}
